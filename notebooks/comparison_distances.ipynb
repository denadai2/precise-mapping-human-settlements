{
 "cells": [
  {
   "cell_type": "code",
   "execution_count": 1,
   "metadata": {},
   "outputs": [],
   "source": [
    "import numpy as np\n",
    "import json\n",
    "from scipy import optimize\n",
    "from os import listdir\n",
    "import re\n",
    "import os\n",
    "from os.path import isfile, join\n",
    "\n",
    "import pandas as pd\n",
    "from joblib import Parallel, delayed, dump\n",
    "%matplotlib inline\n",
    "import matplotlib.pyplot as plt\n",
    "from skimage import measure\n",
    "import matplotlib\n",
    "import seaborn as sns\n",
    "import csv\n",
    "from scipy.stats import stats"
   ]
  },
  {
   "cell_type": "code",
   "execution_count": 2,
   "metadata": {},
   "outputs": [],
   "source": [
    "NJOBS = 35"
   ]
  },
  {
   "cell_type": "code",
   "execution_count": 3,
   "metadata": {},
   "outputs": [],
   "source": [
    "#sns.set(style=\"white\")\n",
    "#sns.set_context(\"paper\")\n",
    "\n",
    "def figsize(scale,ratio):\n",
    "    fig_width_pt = 468.0                      # Get this from LaTeX using \\the\\textwidth\n",
    "    inches_per_pt = 1.0/72.27                       # Convert pt to inch\n",
    "    golden_mean = (np.sqrt(5.0)-1.0)/2.0            # Aesthetic ratio (you could change this)\n",
    "    fig_width = fig_width_pt*inches_per_pt*scale    # width in inches\n",
    "    if(ratio == \"golden\"):                          # Golden ratio ...\n",
    "        fig_height = fig_width*golden_mean          # height in inches\n",
    "    else:                                           # ... or other ratio\n",
    "        fig_height = fig_width*ratio\n",
    "        \n",
    "    fig_size = [fig_width,fig_height]\n",
    "    return fig_size\n",
    "\n",
    "pgf_with_latex = {'backend': 'pdf',\n",
    "                                            'axes.labelsize': 8,\n",
    "                                            'xtick.labelsize': 8,\n",
    "                                            'ytick.labelsize': 8,\n",
    "                                            'legend.fontsize': 8,\n",
    "                                            'lines.markersize': 3,\n",
    "                                            'font.size': 8,\n",
    "                                            'font.family': u'sans-serif',\n",
    "                                            'font.sans-serif': ['Arial'],\n",
    "                                            'pdf.fonttype': 42,\n",
    "                                              'ps.fonttype': 42,\n",
    "                                            'text.usetex': False}\n",
    "matplotlib.rcParams.update(pgf_with_latex)"
   ]
  },
  {
   "cell_type": "code",
   "execution_count": 4,
   "metadata": {},
   "outputs": [],
   "source": [
    "from collections import defaultdict\n",
    "import gzip\n",
    "from tqdm import tqdm_notebook\n",
    "from itertools import chain\n",
    "\n",
    "def collect_distance_file(prefix, directoryname, tileid):\n",
    "    with gzip.open(directoryname + '{}{}.json.gz'.format(prefix, tileid), 'rt') as f:\n",
    "        d = json.load(f)\n",
    "    return d['distances'][0]\n",
    "\n",
    "def collect_distances(directoryname, df_classes, distance_name='energy', modelname=''):\n",
    "    dours = {}\n",
    "    drybski = {}\n",
    "    prefix_name = '{}_'.format(distance_name)\n",
    "    if modelname:\n",
    "        prefix_name = '{}_{}_'.format(distance_name, modelname)\n",
    "        \n",
    "    prefix_name_rybski = '{}_{}_'.format(distance_name, 'rybski')\n",
    "      \n",
    "    for c in [1,2,3,4]:\n",
    "        tiles = df_classes[df_classes['class'] == c]['tileid'].values\n",
    "        dours[c] = [r for r in Parallel(n_jobs=NJOBS)(delayed(collect_distance_file)(prefix_name, directoryname, t) for t in tqdm_notebook(tiles)  if isfile(directoryname + '{}{}.json.gz'.format(prefix_name, t)))]\n",
    "        \n",
    "        drybski[c] = [r for r in Parallel(n_jobs=NJOBS)(delayed(collect_distance_file)(prefix_name_rybski, directoryname, t) for t in tqdm_notebook(tiles) if isfile(directoryname + '{}{}.json.gz'.format(prefix_name, t)))]\n",
    "        \n",
    "    return dours, drybski\n",
    "\n",
    "\n",
    "def create_dataframe_distances(dours, drybski):\n",
    "    data = [[ 10, 'tom', 'c']]\n",
    "    df = pd.DataFrame(data, columns = ['dist', 'Class', 'model']) \n",
    "\n",
    "    for c in [1,2,3,4]:\n",
    "        array_distances = np.hstack((np.array(dours[c]), np.array(drybski[c]))).reshape(-1, 1)\n",
    "\n",
    "\n",
    "        repeated = np.repeat(c, len(array_distances)).reshape(-1, 1)\n",
    "        repeated_model = np.hstack((np.repeat('multi', len(dours[c])), np.repeat('rybski', len(dours[c])))).reshape(-1, 1)\n",
    "\n",
    "        df = pd.concat((df, pd.DataFrame(np.hstack((array_distances, repeated, repeated_model)), columns = ['dist', 'Class', 'model']) ))\n",
    "\n",
    "    df = df[df['Class']  != 'tom']\n",
    "    df['dist'] = df['dist'].astype('float32')\n",
    "    df = df.sort_values(['model', 'Class'])\n",
    "    return df\n",
    "\n",
    "def compute_kolmogorov_classes(df):\n",
    "    for c in ['1', '2', '3', '4']:\n",
    "        data1 = df[(df['Class'] == c) & (df['model'] == 'multi')]['dist'].values\n",
    "        data2 = df[(df['Class'] == c) & (df['model'] == 'rybski')]['dist'].values\n",
    "        d, p = stats.ks_2samp(data1, data2)\n",
    "        print(\"KL class {}: {} (p-value {})\".format(c, d, p))\n",
    "    "
   ]
  },
  {
   "cell_type": "code",
   "execution_count": 5,
   "metadata": {},
   "outputs": [
    {
     "data": {
      "text/html": [
       "<div>\n",
       "<style scoped>\n",
       "    .dataframe tbody tr th:only-of-type {\n",
       "        vertical-align: middle;\n",
       "    }\n",
       "\n",
       "    .dataframe tbody tr th {\n",
       "        vertical-align: top;\n",
       "    }\n",
       "\n",
       "    .dataframe thead th {\n",
       "        text-align: right;\n",
       "    }\n",
       "</style>\n",
       "<table border=\"1\" class=\"dataframe\">\n",
       "  <thead>\n",
       "    <tr style=\"text-align: right;\">\n",
       "      <th></th>\n",
       "      <th>tileid</th>\n",
       "      <th>class</th>\n",
       "      <th>quantile</th>\n",
       "    </tr>\n",
       "  </thead>\n",
       "  <tbody>\n",
       "    <tr>\n",
       "      <td>0</td>\n",
       "      <td>46588</td>\n",
       "      <td>2</td>\n",
       "      <td>0.307</td>\n",
       "    </tr>\n",
       "    <tr>\n",
       "      <td>1</td>\n",
       "      <td>47297</td>\n",
       "      <td>3</td>\n",
       "      <td>0.544</td>\n",
       "    </tr>\n",
       "    <tr>\n",
       "      <td>2</td>\n",
       "      <td>48000</td>\n",
       "      <td>2</td>\n",
       "      <td>0.428</td>\n",
       "    </tr>\n",
       "    <tr>\n",
       "      <td>3</td>\n",
       "      <td>48003</td>\n",
       "      <td>3</td>\n",
       "      <td>0.811</td>\n",
       "    </tr>\n",
       "    <tr>\n",
       "      <td>4</td>\n",
       "      <td>48004</td>\n",
       "      <td>2</td>\n",
       "      <td>0.353</td>\n",
       "    </tr>\n",
       "  </tbody>\n",
       "</table>\n",
       "</div>"
      ],
      "text/plain": [
       "  tileid  class  quantile\n",
       "0  46588      2     0.307\n",
       "1  47297      3     0.544\n",
       "2  48000      2     0.428\n",
       "3  48003      3     0.811\n",
       "4  48004      2     0.353"
      ]
     },
     "execution_count": 5,
     "metadata": {},
     "output_type": "execute_result"
    }
   ],
   "source": [
    "df_classes = pd.read_csv('../data/generated_files/quantiles_classes.csv', dtype={'tileid': str})\n",
    "df_classes.head()"
   ]
  },
  {
   "cell_type": "code",
   "execution_count": 6,
   "metadata": {},
   "outputs": [],
   "source": [
    "df = pd.read_csv('../data/generated_files/summary_tiles_05x05.csv', dtype={'tileid': 'str'})\n",
    "df['perc_urban'] = df['urban_area_km2'] / df['original_km2']\n",
    "df['perc_constraint'] = 1 - (df['tile_km2'] / df['original_km2'])"
   ]
  },
  {
   "cell_type": "code",
   "execution_count": 7,
   "metadata": {},
   "outputs": [],
   "source": [
    "df = pd.merge(df[['tileid', 'perc_urban', 'perc_constraint']], df_classes, on='tileid')"
   ]
  },
  {
   "cell_type": "code",
   "execution_count": 8,
   "metadata": {},
   "outputs": [
    {
     "data": {
      "application/vnd.jupyter.widget-view+json": {
       "model_id": "dd3ff9fe9e5f4cef98b5666050704c3f",
       "version_major": 2,
       "version_minor": 0
      },
      "text/plain": [
       "HBox(children=(IntProgress(value=0, max=4419), HTML(value='')))"
      ]
     },
     "metadata": {},
     "output_type": "display_data"
    },
    {
     "name": "stdout",
     "output_type": "stream",
     "text": [
      "\n"
     ]
    },
    {
     "data": {
      "application/vnd.jupyter.widget-view+json": {
       "model_id": "c410b92575354c808bb15860ad29d717",
       "version_major": 2,
       "version_minor": 0
      },
      "text/plain": [
       "HBox(children=(IntProgress(value=0, max=4419), HTML(value='')))"
      ]
     },
     "metadata": {},
     "output_type": "display_data"
    },
    {
     "name": "stdout",
     "output_type": "stream",
     "text": [
      "\n"
     ]
    },
    {
     "data": {
      "application/vnd.jupyter.widget-view+json": {
       "model_id": "21e066fd80fa44379e486d01a44a899a",
       "version_major": 2,
       "version_minor": 0
      },
      "text/plain": [
       "HBox(children=(IntProgress(value=0, max=16220), HTML(value='')))"
      ]
     },
     "metadata": {},
     "output_type": "display_data"
    },
    {
     "name": "stdout",
     "output_type": "stream",
     "text": [
      "\n"
     ]
    },
    {
     "data": {
      "application/vnd.jupyter.widget-view+json": {
       "model_id": "75028c8e3a68477d8786348a81496a6e",
       "version_major": 2,
       "version_minor": 0
      },
      "text/plain": [
       "HBox(children=(IntProgress(value=0, max=16220), HTML(value='')))"
      ]
     },
     "metadata": {},
     "output_type": "display_data"
    },
    {
     "name": "stdout",
     "output_type": "stream",
     "text": [
      "\n"
     ]
    },
    {
     "data": {
      "application/vnd.jupyter.widget-view+json": {
       "model_id": "dd1c621befcb4a12b0943fe401b4cda7",
       "version_major": 2,
       "version_minor": 0
      },
      "text/plain": [
       "HBox(children=(IntProgress(value=0, max=12304), HTML(value='')))"
      ]
     },
     "metadata": {},
     "output_type": "display_data"
    },
    {
     "name": "stdout",
     "output_type": "stream",
     "text": [
      "\n"
     ]
    },
    {
     "data": {
      "application/vnd.jupyter.widget-view+json": {
       "model_id": "aa4a2fe122a444cca77b024fef90dc60",
       "version_major": 2,
       "version_minor": 0
      },
      "text/plain": [
       "HBox(children=(IntProgress(value=0, max=12304), HTML(value='')))"
      ]
     },
     "metadata": {},
     "output_type": "display_data"
    },
    {
     "name": "stdout",
     "output_type": "stream",
     "text": [
      "\n"
     ]
    },
    {
     "data": {
      "application/vnd.jupyter.widget-view+json": {
       "model_id": "a5cef7897e964b779510b71d4d901fd2",
       "version_major": 2,
       "version_minor": 0
      },
      "text/plain": [
       "HBox(children=(IntProgress(value=0, max=11297), HTML(value='')))"
      ]
     },
     "metadata": {},
     "output_type": "display_data"
    },
    {
     "name": "stdout",
     "output_type": "stream",
     "text": [
      "\n"
     ]
    },
    {
     "data": {
      "application/vnd.jupyter.widget-view+json": {
       "model_id": "9a490d9dba204a5a91913f138990a4ae",
       "version_major": 2,
       "version_minor": 0
      },
      "text/plain": [
       "HBox(children=(IntProgress(value=0, max=11297), HTML(value='')))"
      ]
     },
     "metadata": {},
     "output_type": "display_data"
    },
    {
     "name": "stdout",
     "output_type": "stream",
     "text": [
      "\n"
     ]
    }
   ],
   "source": [
    "rootdir = \"../data/generated_files/simulations/distances/\"\n",
    "\n",
    "dours, drybski = collect_distances(rootdir, df_classes, distance_name='energy')"
   ]
  },
  {
   "cell_type": "code",
   "execution_count": 9,
   "metadata": {},
   "outputs": [
    {
     "data": {
      "text/html": [
       "<div>\n",
       "<style scoped>\n",
       "    .dataframe tbody tr th:only-of-type {\n",
       "        vertical-align: middle;\n",
       "    }\n",
       "\n",
       "    .dataframe tbody tr th {\n",
       "        vertical-align: top;\n",
       "    }\n",
       "\n",
       "    .dataframe thead th {\n",
       "        text-align: right;\n",
       "    }\n",
       "</style>\n",
       "<table border=\"1\" class=\"dataframe\">\n",
       "  <thead>\n",
       "    <tr style=\"text-align: right;\">\n",
       "      <th></th>\n",
       "      <th>dist</th>\n",
       "      <th>Class</th>\n",
       "      <th>model</th>\n",
       "    </tr>\n",
       "  </thead>\n",
       "  <tbody>\n",
       "    <tr>\n",
       "      <td>0</td>\n",
       "      <td>0.297294</td>\n",
       "      <td>1</td>\n",
       "      <td>multi</td>\n",
       "    </tr>\n",
       "    <tr>\n",
       "      <td>1</td>\n",
       "      <td>0.525910</td>\n",
       "      <td>1</td>\n",
       "      <td>multi</td>\n",
       "    </tr>\n",
       "    <tr>\n",
       "      <td>2</td>\n",
       "      <td>0.301655</td>\n",
       "      <td>1</td>\n",
       "      <td>multi</td>\n",
       "    </tr>\n",
       "    <tr>\n",
       "      <td>3</td>\n",
       "      <td>0.363942</td>\n",
       "      <td>1</td>\n",
       "      <td>multi</td>\n",
       "    </tr>\n",
       "    <tr>\n",
       "      <td>4</td>\n",
       "      <td>0.266740</td>\n",
       "      <td>1</td>\n",
       "      <td>multi</td>\n",
       "    </tr>\n",
       "  </tbody>\n",
       "</table>\n",
       "</div>"
      ],
      "text/plain": [
       "       dist Class  model\n",
       "0  0.297294     1  multi\n",
       "1  0.525910     1  multi\n",
       "2  0.301655     1  multi\n",
       "3  0.363942     1  multi\n",
       "4  0.266740     1  multi"
      ]
     },
     "execution_count": 9,
     "metadata": {},
     "output_type": "execute_result"
    }
   ],
   "source": [
    "df = create_dataframe_distances(dours, drybski)\n",
    "df.head()"
   ]
  },
  {
   "cell_type": "code",
   "execution_count": 10,
   "metadata": {},
   "outputs": [
    {
     "name": "stdout",
     "output_type": "stream",
     "text": [
      "Model multi\n",
      "KL all: 0.46788990825688076 (p-value 0.0)\n"
     ]
    }
   ],
   "source": [
    "print(\"Model multi\")\n",
    "data1 = df[(df['model'] == 'multi')]['dist'].values\n",
    "data2 = df[(df['model'] == 'rybski')]['dist'].values\n",
    "d, p = stats.ks_2samp(data1, data2)\n",
    "print(\"KL all: {} (p-value {})\".format(d, p))"
   ]
  },
  {
   "cell_type": "code",
   "execution_count": 11,
   "metadata": {},
   "outputs": [
    {
     "name": "stdout",
     "output_type": "stream",
     "text": [
      "KL class 1: 0.42851153039832285 (p-value 7.160703539868296e-197)\n",
      "KL class 2: 0.5511540860885838 (p-value 0.0)\n",
      "KL class 3: 0.6318883174136665 (p-value 2.954113904612405e-255)\n",
      "KL class 4: 0.6440080563947633 (p-value 0.0)\n"
     ]
    }
   ],
   "source": [
    "compute_kolmogorov_classes(df)"
   ]
  },
  {
   "cell_type": "code",
   "execution_count": 12,
   "metadata": {},
   "outputs": [
    {
     "name": "stderr",
     "output_type": "stream",
     "text": [
      "findfont: Font family ['sans-serif'] not found. Falling back to DejaVu Sans.\n",
      "findfont: Font family ['sans-serif'] not found. Falling back to DejaVu Sans.\n"
     ]
    },
    {
     "name": "stdout",
     "output_type": "stream",
     "text": [
      "Median diff: 61.968034505844116\n"
     ]
    },
    {
     "data": {
      "image/png": "[encoded data removed]",
      "text/plain": [
       "<Figure size 466.252x373.001 with 1 Axes>"
      ]
     },
     "metadata": {
      "needs_background": "light"
     },
     "output_type": "display_data"
    }
   ],
   "source": [
    "colors = np.array([[109, 110, 113],\n",
    "                   [230, 231, 232]])/255\n",
    "\n",
    "f, axs = plt.subplots(1,1, figsize=figsize(1, 0.8))\n",
    "g = sns.boxplot(x=\"Class\", y=\"dist\", hue='model', data=df, linewidth=0.5, showfliers=False,\n",
    "           palette=sns.color_palette(colors))\n",
    "\n",
    "leg = g.axes.get_legend()\n",
    "leg.set_title('Model')\n",
    "renames = {'multi': 'Multi parameter', 'rybski': 'Single parameter'}\n",
    "for t in leg.texts: \n",
    "    old = t.get_text()\n",
    "    t.set_text(renames[old])\n",
    "    \n",
    "    \n",
    "original = np.median(df[df['model'] == 'rybski']['dist'].values)\n",
    "decrease = original - np.median(df[df['model'] == 'multi']['dist'].values)\n",
    "\n",
    "print(\"Median diff:\", decrease/original*100)\n",
    "\n",
    "plt.savefig('../figures/manuscript/boxplot_distances.pdf', dpi=150, bbox_inches='tight', pad_inches=0.05)"
   ]
  },
  {
   "cell_type": "code",
   "execution_count": 13,
   "metadata": {},
   "outputs": [
    {
     "data": {
      "application/vnd.jupyter.widget-view+json": {
       "model_id": "618aef2a3bff4cb9a93342a93dad39cf",
       "version_major": 2,
       "version_minor": 0
      },
      "text/plain": [
       "HBox(children=(IntProgress(value=0, max=4419), HTML(value='')))"
      ]
     },
     "metadata": {},
     "output_type": "display_data"
    },
    {
     "name": "stdout",
     "output_type": "stream",
     "text": [
      "\n"
     ]
    },
    {
     "data": {
      "application/vnd.jupyter.widget-view+json": {
       "model_id": "3f9a54e44e8d419c982862fb46cd7a2f",
       "version_major": 2,
       "version_minor": 0
      },
      "text/plain": [
       "HBox(children=(IntProgress(value=0, max=4419), HTML(value='')))"
      ]
     },
     "metadata": {},
     "output_type": "display_data"
    },
    {
     "name": "stdout",
     "output_type": "stream",
     "text": [
      "\n"
     ]
    },
    {
     "data": {
      "application/vnd.jupyter.widget-view+json": {
       "model_id": "3e76a1912c8343dfbad284b5ba003cd2",
       "version_major": 2,
       "version_minor": 0
      },
      "text/plain": [
       "HBox(children=(IntProgress(value=0, max=16220), HTML(value='')))"
      ]
     },
     "metadata": {},
     "output_type": "display_data"
    },
    {
     "name": "stdout",
     "output_type": "stream",
     "text": [
      "\n"
     ]
    },
    {
     "data": {
      "application/vnd.jupyter.widget-view+json": {
       "model_id": "bf1b63c9e52a46a795ddb0fca91774d6",
       "version_major": 2,
       "version_minor": 0
      },
      "text/plain": [
       "HBox(children=(IntProgress(value=0, max=16220), HTML(value='')))"
      ]
     },
     "metadata": {},
     "output_type": "display_data"
    },
    {
     "name": "stdout",
     "output_type": "stream",
     "text": [
      "\n"
     ]
    },
    {
     "data": {
      "application/vnd.jupyter.widget-view+json": {
       "model_id": "e5e74261ed2749a79e3dd7e19fa67b12",
       "version_major": 2,
       "version_minor": 0
      },
      "text/plain": [
       "HBox(children=(IntProgress(value=0, max=12304), HTML(value='')))"
      ]
     },
     "metadata": {},
     "output_type": "display_data"
    },
    {
     "name": "stdout",
     "output_type": "stream",
     "text": [
      "\n"
     ]
    },
    {
     "data": {
      "application/vnd.jupyter.widget-view+json": {
       "model_id": "6cf6cc3da5024979ad097a0d4fc3c988",
       "version_major": 2,
       "version_minor": 0
      },
      "text/plain": [
       "HBox(children=(IntProgress(value=0, max=12304), HTML(value='')))"
      ]
     },
     "metadata": {},
     "output_type": "display_data"
    },
    {
     "name": "stdout",
     "output_type": "stream",
     "text": [
      "\n"
     ]
    },
    {
     "data": {
      "application/vnd.jupyter.widget-view+json": {
       "model_id": "f2dd224a9c3946459f442530eaeed11d",
       "version_major": 2,
       "version_minor": 0
      },
      "text/plain": [
       "HBox(children=(IntProgress(value=0, max=11297), HTML(value='')))"
      ]
     },
     "metadata": {},
     "output_type": "display_data"
    },
    {
     "name": "stdout",
     "output_type": "stream",
     "text": [
      "\n"
     ]
    },
    {
     "data": {
      "application/vnd.jupyter.widget-view+json": {
       "model_id": "d65db476392a4c959925f971b21d6164",
       "version_major": 2,
       "version_minor": 0
      },
      "text/plain": [
       "HBox(children=(IntProgress(value=0, max=11297), HTML(value='')))"
      ]
     },
     "metadata": {},
     "output_type": "display_data"
    },
    {
     "name": "stdout",
     "output_type": "stream",
     "text": [
      "\n"
     ]
    },
    {
     "data": {
      "text/html": [
       "<div>\n",
       "<style scoped>\n",
       "    .dataframe tbody tr th:only-of-type {\n",
       "        vertical-align: middle;\n",
       "    }\n",
       "\n",
       "    .dataframe tbody tr th {\n",
       "        vertical-align: top;\n",
       "    }\n",
       "\n",
       "    .dataframe thead th {\n",
       "        text-align: right;\n",
       "    }\n",
       "</style>\n",
       "<table border=\"1\" class=\"dataframe\">\n",
       "  <thead>\n",
       "    <tr style=\"text-align: right;\">\n",
       "      <th></th>\n",
       "      <th>dist</th>\n",
       "      <th>Class</th>\n",
       "      <th>model</th>\n",
       "    </tr>\n",
       "  </thead>\n",
       "  <tbody>\n",
       "    <tr>\n",
       "      <td>0</td>\n",
       "      <td>0.618191</td>\n",
       "      <td>1</td>\n",
       "      <td>multi</td>\n",
       "    </tr>\n",
       "    <tr>\n",
       "      <td>1</td>\n",
       "      <td>0.565136</td>\n",
       "      <td>1</td>\n",
       "      <td>multi</td>\n",
       "    </tr>\n",
       "    <tr>\n",
       "      <td>2</td>\n",
       "      <td>0.656640</td>\n",
       "      <td>1</td>\n",
       "      <td>multi</td>\n",
       "    </tr>\n",
       "    <tr>\n",
       "      <td>3</td>\n",
       "      <td>0.563968</td>\n",
       "      <td>1</td>\n",
       "      <td>multi</td>\n",
       "    </tr>\n",
       "    <tr>\n",
       "      <td>4</td>\n",
       "      <td>0.449171</td>\n",
       "      <td>1</td>\n",
       "      <td>multi</td>\n",
       "    </tr>\n",
       "  </tbody>\n",
       "</table>\n",
       "</div>"
      ],
      "text/plain": [
       "       dist Class  model\n",
       "0  0.618191     1  multi\n",
       "1  0.565136     1  multi\n",
       "2  0.656640     1  multi\n",
       "3  0.563968     1  multi\n",
       "4  0.449171     1  multi"
      ]
     },
     "execution_count": 13,
     "metadata": {},
     "output_type": "execute_result"
    }
   ],
   "source": [
    "doursKL, drybskiKL = collect_distances(rootdir, df_classes, distance_name='kl')\n",
    "dfKL = create_dataframe_distances(doursKL, drybskiKL)\n",
    "dfKL.head()"
   ]
  },
  {
   "cell_type": "code",
   "execution_count": 14,
   "metadata": {},
   "outputs": [
    {
     "data": {
      "application/vnd.jupyter.widget-view+json": {
       "model_id": "0ee0301b84564526aa525eb527031ad6",
       "version_major": 2,
       "version_minor": 0
      },
      "text/plain": [
       "HBox(children=(IntProgress(value=0, max=4419), HTML(value='')))"
      ]
     },
     "metadata": {},
     "output_type": "display_data"
    },
    {
     "name": "stdout",
     "output_type": "stream",
     "text": [
      "\n"
     ]
    },
    {
     "data": {
      "application/vnd.jupyter.widget-view+json": {
       "model_id": "da00f6f8a36d405b8d4b86a68363b0ab",
       "version_major": 2,
       "version_minor": 0
      },
      "text/plain": [
       "HBox(children=(IntProgress(value=0, max=4419), HTML(value='')))"
      ]
     },
     "metadata": {},
     "output_type": "display_data"
    },
    {
     "name": "stdout",
     "output_type": "stream",
     "text": [
      "\n"
     ]
    },
    {
     "data": {
      "application/vnd.jupyter.widget-view+json": {
       "model_id": "24b221f265da43caa3cdd0422604d4e9",
       "version_major": 2,
       "version_minor": 0
      },
      "text/plain": [
       "HBox(children=(IntProgress(value=0, max=16220), HTML(value='')))"
      ]
     },
     "metadata": {},
     "output_type": "display_data"
    },
    {
     "name": "stdout",
     "output_type": "stream",
     "text": [
      "\n"
     ]
    },
    {
     "data": {
      "application/vnd.jupyter.widget-view+json": {
       "model_id": "286cc73fcf364a808c93d9001f055335",
       "version_major": 2,
       "version_minor": 0
      },
      "text/plain": [
       "HBox(children=(IntProgress(value=0, max=16220), HTML(value='')))"
      ]
     },
     "metadata": {},
     "output_type": "display_data"
    },
    {
     "name": "stdout",
     "output_type": "stream",
     "text": [
      "\n"
     ]
    },
    {
     "data": {
      "application/vnd.jupyter.widget-view+json": {
       "model_id": "5cf2abffe2af42e8a42b17c22ce0e019",
       "version_major": 2,
       "version_minor": 0
      },
      "text/plain": [
       "HBox(children=(IntProgress(value=0, max=12304), HTML(value='')))"
      ]
     },
     "metadata": {},
     "output_type": "display_data"
    },
    {
     "name": "stdout",
     "output_type": "stream",
     "text": [
      "\n"
     ]
    },
    {
     "data": {
      "application/vnd.jupyter.widget-view+json": {
       "model_id": "ad4e2b94043244c08d6290f9ab89624b",
       "version_major": 2,
       "version_minor": 0
      },
      "text/plain": [
       "HBox(children=(IntProgress(value=0, max=12304), HTML(value='')))"
      ]
     },
     "metadata": {},
     "output_type": "display_data"
    },
    {
     "name": "stdout",
     "output_type": "stream",
     "text": [
      "\n"
     ]
    },
    {
     "data": {
      "application/vnd.jupyter.widget-view+json": {
       "model_id": "667ce3b2c19e40eba7ba82a8f6a047bd",
       "version_major": 2,
       "version_minor": 0
      },
      "text/plain": [
       "HBox(children=(IntProgress(value=0, max=11297), HTML(value='')))"
      ]
     },
     "metadata": {},
     "output_type": "display_data"
    },
    {
     "name": "stdout",
     "output_type": "stream",
     "text": [
      "\n"
     ]
    },
    {
     "data": {
      "application/vnd.jupyter.widget-view+json": {
       "model_id": "2341392f64fe4948962823ec7c84399a",
       "version_major": 2,
       "version_minor": 0
      },
      "text/plain": [
       "HBox(children=(IntProgress(value=0, max=11297), HTML(value='')))"
      ]
     },
     "metadata": {},
     "output_type": "display_data"
    },
    {
     "name": "stdout",
     "output_type": "stream",
     "text": [
      "\n"
     ]
    },
    {
     "data": {
      "text/html": [
       "<div>\n",
       "<style scoped>\n",
       "    .dataframe tbody tr th:only-of-type {\n",
       "        vertical-align: middle;\n",
       "    }\n",
       "\n",
       "    .dataframe tbody tr th {\n",
       "        vertical-align: top;\n",
       "    }\n",
       "\n",
       "    .dataframe thead th {\n",
       "        text-align: right;\n",
       "    }\n",
       "</style>\n",
       "<table border=\"1\" class=\"dataframe\">\n",
       "  <thead>\n",
       "    <tr style=\"text-align: right;\">\n",
       "      <th></th>\n",
       "      <th>dist</th>\n",
       "      <th>Class</th>\n",
       "      <th>model</th>\n",
       "    </tr>\n",
       "  </thead>\n",
       "  <tbody>\n",
       "    <tr>\n",
       "      <td>0</td>\n",
       "      <td>0.037751</td>\n",
       "      <td>1</td>\n",
       "      <td>multi</td>\n",
       "    </tr>\n",
       "    <tr>\n",
       "      <td>1</td>\n",
       "      <td>0.050295</td>\n",
       "      <td>1</td>\n",
       "      <td>multi</td>\n",
       "    </tr>\n",
       "    <tr>\n",
       "      <td>2</td>\n",
       "      <td>0.035134</td>\n",
       "      <td>1</td>\n",
       "      <td>multi</td>\n",
       "    </tr>\n",
       "    <tr>\n",
       "      <td>3</td>\n",
       "      <td>0.028619</td>\n",
       "      <td>1</td>\n",
       "      <td>multi</td>\n",
       "    </tr>\n",
       "    <tr>\n",
       "      <td>4</td>\n",
       "      <td>0.033513</td>\n",
       "      <td>1</td>\n",
       "      <td>multi</td>\n",
       "    </tr>\n",
       "  </tbody>\n",
       "</table>\n",
       "</div>"
      ],
      "text/plain": [
       "       dist Class  model\n",
       "0  0.037751     1  multi\n",
       "1  0.050295     1  multi\n",
       "2  0.035134     1  multi\n",
       "3  0.028619     1  multi\n",
       "4  0.033513     1  multi"
      ]
     },
     "execution_count": 14,
     "metadata": {},
     "output_type": "execute_result"
    }
   ],
   "source": [
    "doursJS, drybskiJS = collect_distances(rootdir, df_classes, distance_name='js')\n",
    "dfJS = create_dataframe_distances(doursJS, drybskiJS)\n",
    "dfJS.head()"
   ]
  },
  {
   "cell_type": "code",
   "execution_count": 15,
   "metadata": {},
   "outputs": [
    {
     "name": "stderr",
     "output_type": "stream",
     "text": [
      "findfont: Font family ['sans-serif'] not found. Falling back to DejaVu Sans.\n"
     ]
    },
    {
     "data": {
      "image/png": "[encoded data removed]",
      "text/plain": [
       "<Figure size 699.377x279.751 with 3 Axes>"
      ]
     },
     "metadata": {
      "needs_background": "light"
     },
     "output_type": "display_data"
    }
   ],
   "source": [
    "def edit_distance_legend(g):\n",
    "    leg = g.axes.get_legend()\n",
    "    leg.set_title('Model')\n",
    "    renames = {'multi': 'Multi parameter', 'rybski': 'Single parameter'}\n",
    "    for t in leg.texts: \n",
    "        old = t.get_text()\n",
    "        t.set_text(renames[old])\n",
    "\n",
    "colors = np.array([[109, 110, 113],\n",
    "                   [230, 231, 232]])/255\n",
    "\n",
    "f, axs = plt.subplots(1,3, figsize=figsize(1.5, 0.4))\n",
    "g = sns.boxplot(x=\"Class\", y=\"dist\", hue='model', data=df, linewidth=0.5, showfliers=False,\n",
    "           palette=sns.color_palette(colors), ax=axs[0])\n",
    "edit_distance_legend(g)\n",
    "    \n",
    "g = sns.boxplot(x=\"Class\", y=\"dist\", hue='model', data=dfKL, linewidth=0.5, showfliers=False,\n",
    "           palette=sns.color_palette(colors), ax=axs[1])\n",
    "edit_distance_legend(g)\n",
    "\n",
    "g = sns.boxplot(x=\"Class\", y=\"dist\", hue='model', data=dfJS, linewidth=0.5, showfliers=False,\n",
    "           palette=sns.color_palette(colors), ax=axs[2])\n",
    "edit_distance_legend(g)\n",
    "\n",
    "#axs[0].set_ylim((0.2, 2.2))\n",
    "\n",
    "axs[0].set_ylabel(\"Distance\")\n",
    "axs[1].set_ylabel(\"Distance\")\n",
    "axs[2].set_ylabel(\"Distance\")\n",
    "\n",
    "axs[0].set_title(\"Energy distance\")\n",
    "axs[1].set_title(\"Kullback Leibler divergence\")\n",
    "axs[2].set_title(\"Jensen–Shannon divergence\")\n",
    "\n",
    "f.tight_layout()\n",
    "plt.savefig('../figures/manuscript/appendix_boxplot_distances.pdf', dpi=150, bbox_inches='tight', pad_inches=0.05)"
   ]
  },
  {
   "cell_type": "code",
   "execution_count": 16,
   "metadata": {},
   "outputs": [
    {
     "data": {
      "application/vnd.jupyter.widget-view+json": {
       "model_id": "b70be1a34ffa406597759083ceb09149",
       "version_major": 2,
       "version_minor": 0
      },
      "text/plain": [
       "HBox(children=(IntProgress(value=0, max=4419), HTML(value='')))"
      ]
     },
     "metadata": {},
     "output_type": "display_data"
    },
    {
     "name": "stdout",
     "output_type": "stream",
     "text": [
      "\n"
     ]
    },
    {
     "data": {
      "application/vnd.jupyter.widget-view+json": {
       "model_id": "6ca88bd8e3bc48788c4791eb46ed08d8",
       "version_major": 2,
       "version_minor": 0
      },
      "text/plain": [
       "HBox(children=(IntProgress(value=0, max=4419), HTML(value='')))"
      ]
     },
     "metadata": {},
     "output_type": "display_data"
    },
    {
     "name": "stdout",
     "output_type": "stream",
     "text": [
      "\n"
     ]
    },
    {
     "data": {
      "application/vnd.jupyter.widget-view+json": {
       "model_id": "65e96a1b268345ceab3b277ebfeea737",
       "version_major": 2,
       "version_minor": 0
      },
      "text/plain": [
       "HBox(children=(IntProgress(value=0, max=16220), HTML(value='')))"
      ]
     },
     "metadata": {},
     "output_type": "display_data"
    },
    {
     "name": "stdout",
     "output_type": "stream",
     "text": [
      "\n"
     ]
    },
    {
     "data": {
      "application/vnd.jupyter.widget-view+json": {
       "model_id": "9b950d9d378845ec8c1d6371043cf6aa",
       "version_major": 2,
       "version_minor": 0
      },
      "text/plain": [
       "HBox(children=(IntProgress(value=0, max=16220), HTML(value='')))"
      ]
     },
     "metadata": {},
     "output_type": "display_data"
    },
    {
     "name": "stdout",
     "output_type": "stream",
     "text": [
      "\n"
     ]
    },
    {
     "data": {
      "application/vnd.jupyter.widget-view+json": {
       "model_id": "3f3e39da930d4e8bb96f23e3c2fa06d8",
       "version_major": 2,
       "version_minor": 0
      },
      "text/plain": [
       "HBox(children=(IntProgress(value=0, max=12304), HTML(value='')))"
      ]
     },
     "metadata": {},
     "output_type": "display_data"
    },
    {
     "name": "stdout",
     "output_type": "stream",
     "text": [
      "\n"
     ]
    },
    {
     "data": {
      "application/vnd.jupyter.widget-view+json": {
       "model_id": "073ff1b956424c8da85b246ce1f6b831",
       "version_major": 2,
       "version_minor": 0
      },
      "text/plain": [
       "HBox(children=(IntProgress(value=0, max=12304), HTML(value='')))"
      ]
     },
     "metadata": {},
     "output_type": "display_data"
    },
    {
     "name": "stdout",
     "output_type": "stream",
     "text": [
      "\n"
     ]
    },
    {
     "data": {
      "application/vnd.jupyter.widget-view+json": {
       "model_id": "bf0e469c730e47a0ba4fb6b099f02ff0",
       "version_major": 2,
       "version_minor": 0
      },
      "text/plain": [
       "HBox(children=(IntProgress(value=0, max=11297), HTML(value='')))"
      ]
     },
     "metadata": {},
     "output_type": "display_data"
    },
    {
     "name": "stdout",
     "output_type": "stream",
     "text": [
      "\n"
     ]
    },
    {
     "data": {
      "application/vnd.jupyter.widget-view+json": {
       "model_id": "66a459f395e64570ab649a9b030200e0",
       "version_major": 2,
       "version_minor": 0
      },
      "text/plain": [
       "HBox(children=(IntProgress(value=0, max=11297), HTML(value='')))"
      ]
     },
     "metadata": {},
     "output_type": "display_data"
    },
    {
     "name": "stdout",
     "output_type": "stream",
     "text": [
      "\n"
     ]
    }
   ],
   "source": [
    "dmultiprob, drybski = collect_distances(rootdir, df_classes, distance_name='energy', modelname='multi')"
   ]
  },
  {
   "cell_type": "code",
   "execution_count": 17,
   "metadata": {},
   "outputs": [
    {
     "data": {
      "text/html": [
       "<div>\n",
       "<style scoped>\n",
       "    .dataframe tbody tr th:only-of-type {\n",
       "        vertical-align: middle;\n",
       "    }\n",
       "\n",
       "    .dataframe tbody tr th {\n",
       "        vertical-align: top;\n",
       "    }\n",
       "\n",
       "    .dataframe thead th {\n",
       "        text-align: right;\n",
       "    }\n",
       "</style>\n",
       "<table border=\"1\" class=\"dataframe\">\n",
       "  <thead>\n",
       "    <tr style=\"text-align: right;\">\n",
       "      <th></th>\n",
       "      <th>dist</th>\n",
       "      <th>Class</th>\n",
       "      <th>model</th>\n",
       "    </tr>\n",
       "  </thead>\n",
       "  <tbody>\n",
       "    <tr>\n",
       "      <td>0</td>\n",
       "      <td>0.258569</td>\n",
       "      <td>1</td>\n",
       "      <td>multi</td>\n",
       "    </tr>\n",
       "    <tr>\n",
       "      <td>1</td>\n",
       "      <td>0.351845</td>\n",
       "      <td>1</td>\n",
       "      <td>multi</td>\n",
       "    </tr>\n",
       "    <tr>\n",
       "      <td>2</td>\n",
       "      <td>0.330056</td>\n",
       "      <td>1</td>\n",
       "      <td>multi</td>\n",
       "    </tr>\n",
       "    <tr>\n",
       "      <td>3</td>\n",
       "      <td>0.220376</td>\n",
       "      <td>1</td>\n",
       "      <td>multi</td>\n",
       "    </tr>\n",
       "    <tr>\n",
       "      <td>4</td>\n",
       "      <td>0.250062</td>\n",
       "      <td>1</td>\n",
       "      <td>multi</td>\n",
       "    </tr>\n",
       "  </tbody>\n",
       "</table>\n",
       "</div>"
      ],
      "text/plain": [
       "       dist Class  model\n",
       "0  0.258569     1  multi\n",
       "1  0.351845     1  multi\n",
       "2  0.330056     1  multi\n",
       "3  0.220376     1  multi\n",
       "4  0.250062     1  multi"
      ]
     },
     "execution_count": 17,
     "metadata": {},
     "output_type": "execute_result"
    }
   ],
   "source": [
    "df_multiprob = create_dataframe_distances(dmultiprob, drybski)\n",
    "df_multiprob.head()"
   ]
  },
  {
   "cell_type": "code",
   "execution_count": 18,
   "metadata": {},
   "outputs": [
    {
     "name": "stdout",
     "output_type": "stream",
     "text": [
      "Model multiprob\n",
      "KL all: 0.5350190199149698 (p-value 0.0)\n"
     ]
    }
   ],
   "source": [
    "print(\"Model multiprob\")\n",
    "data1 = df_multiprob[(df_multiprob['model'] == 'multi')]['dist'].values\n",
    "data2 = df_multiprob[(df_multiprob['model'] == 'rybski')]['dist'].values\n",
    "d, p = stats.ks_2samp(data1, data2)\n",
    "print(\"KL all: {} (p-value {})\".format(d, p))"
   ]
  },
  {
   "cell_type": "code",
   "execution_count": 19,
   "metadata": {},
   "outputs": [
    {
     "name": "stdout",
     "output_type": "stream",
     "text": [
      "KL class 1: 0.5014675052410902 (p-value 5.04434886245403e-273)\n",
      "KL class 2: 0.6253898939488459 (p-value 0.0)\n",
      "KL class 3: 0.6612784717119765 (p-value 5.597122133673865e-282)\n",
      "KL class 4: 0.6560926485397784 (p-value 0.0)\n"
     ]
    }
   ],
   "source": [
    "compute_kolmogorov_classes(df_multiprob)"
   ]
  },
  {
   "cell_type": "markdown",
   "metadata": {},
   "source": [
    "## Classes real vs simulated"
   ]
  },
  {
   "cell_type": "code",
   "execution_count": 21,
   "metadata": {},
   "outputs": [
    {
     "name": "stdout",
     "output_type": "stream",
     "text": [
      "44240\n"
     ]
    },
    {
     "data": {
      "text/html": [
       "<div>\n",
       "<style scoped>\n",
       "    .dataframe tbody tr th:only-of-type {\n",
       "        vertical-align: middle;\n",
       "    }\n",
       "\n",
       "    .dataframe tbody tr th {\n",
       "        vertical-align: top;\n",
       "    }\n",
       "\n",
       "    .dataframe thead th {\n",
       "        text-align: right;\n",
       "    }\n",
       "</style>\n",
       "<table border=\"1\" class=\"dataframe\">\n",
       "  <thead>\n",
       "    <tr style=\"text-align: right;\">\n",
       "      <th></th>\n",
       "      <th>tileid</th>\n",
       "      <th>class</th>\n",
       "      <th>quantile</th>\n",
       "    </tr>\n",
       "  </thead>\n",
       "  <tbody>\n",
       "    <tr>\n",
       "      <td>0</td>\n",
       "      <td>46588</td>\n",
       "      <td>2</td>\n",
       "      <td>0.307</td>\n",
       "    </tr>\n",
       "    <tr>\n",
       "      <td>1</td>\n",
       "      <td>47297</td>\n",
       "      <td>3</td>\n",
       "      <td>0.544</td>\n",
       "    </tr>\n",
       "    <tr>\n",
       "      <td>2</td>\n",
       "      <td>48000</td>\n",
       "      <td>2</td>\n",
       "      <td>0.428</td>\n",
       "    </tr>\n",
       "    <tr>\n",
       "      <td>3</td>\n",
       "      <td>48003</td>\n",
       "      <td>3</td>\n",
       "      <td>0.811</td>\n",
       "    </tr>\n",
       "    <tr>\n",
       "      <td>4</td>\n",
       "      <td>48004</td>\n",
       "      <td>2</td>\n",
       "      <td>0.353</td>\n",
       "    </tr>\n",
       "  </tbody>\n",
       "</table>\n",
       "</div>"
      ],
      "text/plain": [
       "  tileid  class  quantile\n",
       "0  46588      2     0.307\n",
       "1  47297      3     0.544\n",
       "2  48000      2     0.428\n",
       "3  48003      3     0.811\n",
       "4  48004      2     0.353"
      ]
     },
     "execution_count": 21,
     "metadata": {},
     "output_type": "execute_result"
    }
   ],
   "source": [
    "df_classes = pd.read_csv('../data/generated_files/quantiles_classes.csv', dtype={'tileid': str})\n",
    "print(len(df_classes))\n",
    "df_classes.head()"
   ]
  },
  {
   "cell_type": "code",
   "execution_count": 22,
   "metadata": {},
   "outputs": [
    {
     "name": "stdout",
     "output_type": "stream",
     "text": [
      "8938\n"
     ]
    },
    {
     "data": {
      "text/html": [
       "<div>\n",
       "<style scoped>\n",
       "    .dataframe tbody tr th:only-of-type {\n",
       "        vertical-align: middle;\n",
       "    }\n",
       "\n",
       "    .dataframe tbody tr th {\n",
       "        vertical-align: top;\n",
       "    }\n",
       "\n",
       "    .dataframe thead th {\n",
       "        text-align: right;\n",
       "    }\n",
       "</style>\n",
       "<table border=\"1\" class=\"dataframe\">\n",
       "  <thead>\n",
       "    <tr style=\"text-align: right;\">\n",
       "      <th></th>\n",
       "      <th>tileid</th>\n",
       "      <th>class_1000</th>\n",
       "      <th>quantile_1000</th>\n",
       "      <th>class_rybski</th>\n",
       "      <th>quantile_rybski</th>\n",
       "      <th>class_marco</th>\n",
       "      <th>quantile_marco</th>\n",
       "      <th>class_truth</th>\n",
       "      <th>quantile_truth</th>\n",
       "    </tr>\n",
       "  </thead>\n",
       "  <tbody>\n",
       "    <tr>\n",
       "      <td>0</td>\n",
       "      <td>50123</td>\n",
       "      <td>2</td>\n",
       "      <td>0.180</td>\n",
       "      <td>2</td>\n",
       "      <td>0.173</td>\n",
       "      <td>2</td>\n",
       "      <td>0.209</td>\n",
       "      <td>2</td>\n",
       "      <td>0.126</td>\n",
       "    </tr>\n",
       "    <tr>\n",
       "      <td>1</td>\n",
       "      <td>52250</td>\n",
       "      <td>2</td>\n",
       "      <td>0.153</td>\n",
       "      <td>2</td>\n",
       "      <td>0.199</td>\n",
       "      <td>2</td>\n",
       "      <td>0.196</td>\n",
       "      <td>2</td>\n",
       "      <td>0.166</td>\n",
       "    </tr>\n",
       "    <tr>\n",
       "      <td>2</td>\n",
       "      <td>60513</td>\n",
       "      <td>2</td>\n",
       "      <td>0.219</td>\n",
       "      <td>2</td>\n",
       "      <td>0.343</td>\n",
       "      <td>2</td>\n",
       "      <td>0.303</td>\n",
       "      <td>2</td>\n",
       "      <td>0.247</td>\n",
       "    </tr>\n",
       "    <tr>\n",
       "      <td>3</td>\n",
       "      <td>60749</td>\n",
       "      <td>2</td>\n",
       "      <td>0.285</td>\n",
       "      <td>2</td>\n",
       "      <td>0.143</td>\n",
       "      <td>2</td>\n",
       "      <td>0.189</td>\n",
       "      <td>2</td>\n",
       "      <td>0.166</td>\n",
       "    </tr>\n",
       "    <tr>\n",
       "      <td>4</td>\n",
       "      <td>61225</td>\n",
       "      <td>2</td>\n",
       "      <td>0.104</td>\n",
       "      <td>1</td>\n",
       "      <td>0.087</td>\n",
       "      <td>2</td>\n",
       "      <td>0.109</td>\n",
       "      <td>1</td>\n",
       "      <td>0.079</td>\n",
       "    </tr>\n",
       "  </tbody>\n",
       "</table>\n",
       "</div>"
      ],
      "text/plain": [
       "  tileid  class_1000  quantile_1000  class_rybski  quantile_rybski  \\\n",
       "0  50123           2          0.180             2            0.173   \n",
       "1  52250           2          0.153             2            0.199   \n",
       "2  60513           2          0.219             2            0.343   \n",
       "3  60749           2          0.285             2            0.143   \n",
       "4  61225           2          0.104             1            0.087   \n",
       "\n",
       "   class_marco  quantile_marco  class_truth  quantile_truth  \n",
       "0            2           0.209            2           0.126  \n",
       "1            2           0.196            2           0.166  \n",
       "2            2           0.303            2           0.247  \n",
       "3            2           0.189            2           0.166  \n",
       "4            2           0.109            1           0.079  "
      ]
     },
     "execution_count": 22,
     "metadata": {},
     "output_type": "execute_result"
    }
   ],
   "source": [
    "from functools import reduce\n",
    "\n",
    "dfs = []\n",
    "for m in ['1000', 'rybski', 'marco']:#\n",
    "    df_temp = pd.read_csv('../data/generated_files/quantiles_classes_{}_all.csv'.format(m), dtype={'tileid': 'str'})\n",
    "    df_temp = df_temp.rename(columns={'class': 'class_{}'.format(m), 'quantile': 'quantile_{}'.format(m)})\n",
    "    df_temp['class_{}'.format(m)] = df_temp['class_{}'.format(m)].astype('int')\n",
    "    dfs.append(df_temp)\n",
    "    \n",
    "df_merged_classes = reduce(lambda left,right: pd.merge(left,right, on='tileid'), dfs)\n",
    "df_merged_classes = pd.merge(df_merged_classes, df_classes.rename(columns={'class': 'class_truth', 'quantile': 'quantile_truth'}), on='tileid')\n",
    "print(len(df_merged_classes))\n",
    "df_merged_classes.head()"
   ]
  },
  {
   "cell_type": "code",
   "execution_count": 23,
   "metadata": {},
   "outputs": [],
   "source": [
    "df_merged_classes.to_csv('../data/generated_files/quantiles_classes_merged_all.csv', index=False)"
   ]
  },
  {
   "cell_type": "code",
   "execution_count": 24,
   "metadata": {},
   "outputs": [
    {
     "data": {
      "text/html": [
       "<div>\n",
       "<style scoped>\n",
       "    .dataframe tbody tr th:only-of-type {\n",
       "        vertical-align: middle;\n",
       "    }\n",
       "\n",
       "    .dataframe tbody tr th {\n",
       "        vertical-align: top;\n",
       "    }\n",
       "\n",
       "    .dataframe thead th {\n",
       "        text-align: right;\n",
       "    }\n",
       "</style>\n",
       "<table border=\"1\" class=\"dataframe\">\n",
       "  <thead>\n",
       "    <tr style=\"text-align: right;\">\n",
       "      <th></th>\n",
       "      <th>tileid</th>\n",
       "      <th>model</th>\n",
       "      <th>class</th>\n",
       "    </tr>\n",
       "  </thead>\n",
       "  <tbody>\n",
       "    <tr>\n",
       "      <td>0</td>\n",
       "      <td>50123</td>\n",
       "      <td>1000</td>\n",
       "      <td>2</td>\n",
       "    </tr>\n",
       "    <tr>\n",
       "      <td>1</td>\n",
       "      <td>52250</td>\n",
       "      <td>1000</td>\n",
       "      <td>2</td>\n",
       "    </tr>\n",
       "    <tr>\n",
       "      <td>2</td>\n",
       "      <td>60513</td>\n",
       "      <td>1000</td>\n",
       "      <td>2</td>\n",
       "    </tr>\n",
       "    <tr>\n",
       "      <td>3</td>\n",
       "      <td>60749</td>\n",
       "      <td>1000</td>\n",
       "      <td>2</td>\n",
       "    </tr>\n",
       "    <tr>\n",
       "      <td>4</td>\n",
       "      <td>61225</td>\n",
       "      <td>1000</td>\n",
       "      <td>2</td>\n",
       "    </tr>\n",
       "  </tbody>\n",
       "</table>\n",
       "</div>"
      ],
      "text/plain": [
       "  tileid model  class\n",
       "0  50123  1000      2\n",
       "1  52250  1000      2\n",
       "2  60513  1000      2\n",
       "3  60749  1000      2\n",
       "4  61225  1000      2"
      ]
     },
     "execution_count": 24,
     "metadata": {},
     "output_type": "execute_result"
    }
   ],
   "source": [
    "df_melted_classes = df_merged_classes.melt(id_vars=['tileid'], value_vars=['class_1000', 'class_rybski', 'class_truth'], #, 'class_marco'\n",
    "                      var_name='model', value_name='class')\n",
    "df_melted_classes.loc[:, 'model'] = df_melted_classes['model'].str.replace('class_', '')\n",
    "df_melted_classes.head()"
   ]
  },
  {
   "cell_type": "code",
   "execution_count": 25,
   "metadata": {},
   "outputs": [
    {
     "data": {
      "text/html": [
       "<div>\n",
       "<style scoped>\n",
       "    .dataframe tbody tr th:only-of-type {\n",
       "        vertical-align: middle;\n",
       "    }\n",
       "\n",
       "    .dataframe tbody tr th {\n",
       "        vertical-align: top;\n",
       "    }\n",
       "\n",
       "    .dataframe thead th {\n",
       "        text-align: right;\n",
       "    }\n",
       "</style>\n",
       "<table border=\"1\" class=\"dataframe\">\n",
       "  <thead>\n",
       "    <tr style=\"text-align: right;\">\n",
       "      <th></th>\n",
       "      <th>model</th>\n",
       "      <th>class</th>\n",
       "      <th>num</th>\n",
       "    </tr>\n",
       "  </thead>\n",
       "  <tbody>\n",
       "    <tr>\n",
       "      <td>0</td>\n",
       "      <td>1000</td>\n",
       "      <td>1</td>\n",
       "      <td>2633</td>\n",
       "    </tr>\n",
       "    <tr>\n",
       "      <td>1</td>\n",
       "      <td>1000</td>\n",
       "      <td>2</td>\n",
       "      <td>3490</td>\n",
       "    </tr>\n",
       "    <tr>\n",
       "      <td>2</td>\n",
       "      <td>1000</td>\n",
       "      <td>3</td>\n",
       "      <td>1274</td>\n",
       "    </tr>\n",
       "    <tr>\n",
       "      <td>3</td>\n",
       "      <td>1000</td>\n",
       "      <td>4</td>\n",
       "      <td>1541</td>\n",
       "    </tr>\n",
       "    <tr>\n",
       "      <td>4</td>\n",
       "      <td>rybski</td>\n",
       "      <td>1</td>\n",
       "      <td>5873</td>\n",
       "    </tr>\n",
       "  </tbody>\n",
       "</table>\n",
       "</div>"
      ],
      "text/plain": [
       "    model  class   num\n",
       "0    1000      1  2633\n",
       "1    1000      2  3490\n",
       "2    1000      3  1274\n",
       "3    1000      4  1541\n",
       "4  rybski      1  5873"
      ]
     },
     "execution_count": 25,
     "metadata": {},
     "output_type": "execute_result"
    }
   ],
   "source": [
    "df_count_classes = df_melted_classes.groupby(['model', 'class'], as_index=False).count()\n",
    "df_count_classes = df_count_classes.rename(columns={'tileid': 'num'})\n",
    "df_count_classes.head()"
   ]
  },
  {
   "cell_type": "code",
   "execution_count": 26,
   "metadata": {},
   "outputs": [
    {
     "data": {
      "image/png": "[encoded data removed]",
      "text/plain": [
       "<Figure size 413.175x360 with 1 Axes>"
      ]
     },
     "metadata": {
      "needs_background": "light"
     },
     "output_type": "display_data"
    }
   ],
   "source": [
    "from  matplotlib.ticker import PercentFormatter\n",
    "\n",
    "g = sns.catplot(x=\"class\", y='num', hue=\"model\", \n",
    "                data=df_count_classes[df_count_classes.model.isin({'rybski', '1000'})].sort_values('model', ascending=False),\n",
    "                height=5, kind=\"bar\", palette=\"muted\")\n",
    "#plt.axhline(y=500, linestyle='--', color='gray')\n",
    "plt.ylabel(\"Number of tiles\")\n",
    "\n",
    "plt.savefig('../figures/manuscript/boxplot_classes.pdf', dpi=150, bbox_inches='tight', pad_inches=0.05)"
   ]
  },
  {
   "cell_type": "code",
   "execution_count": 27,
   "metadata": {},
   "outputs": [
    {
     "data": {
      "text/plain": [
       "8938"
      ]
     },
     "execution_count": 27,
     "metadata": {},
     "output_type": "execute_result"
    }
   ],
   "source": [
    "len(pd.merge(df_merged_classes, df_classes, on='tileid'))"
   ]
  },
  {
   "cell_type": "code",
   "execution_count": 28,
   "metadata": {},
   "outputs": [
    {
     "data": {
      "text/plain": [
       "(8938, 44240)"
      ]
     },
     "execution_count": 28,
     "metadata": {},
     "output_type": "execute_result"
    }
   ],
   "source": [
    "len(df_merged_classes), len(df_classes)"
   ]
  },
  {
   "cell_type": "code",
   "execution_count": 29,
   "metadata": {},
   "outputs": [
    {
     "name": "stdout",
     "output_type": "stream",
     "text": [
      "MODEL 1000\n",
      "1 0.8935281837160752\n",
      "2 0.8132518970942069\n",
      "3 0.5459401709401709\n",
      "4 0.7970926711084191\n",
      "\n",
      "MODEL rybski\n",
      "1 0.9814221652786675\n",
      "2 0.3929824561403509\n",
      "3 0.091164095371669\n",
      "4 0.2471315092674316\n",
      "\n",
      "MODEL marco\n",
      "1 0.9544059622972381\n",
      "2 0.7981255857544517\n",
      "3 0.527056277056277\n",
      "4 0.8064903846153846\n",
      "\n"
     ]
    }
   ],
   "source": [
    "from sklearn.metrics import f1_score\n",
    "                         \n",
    "def f1_score_classes(true_classes, sim_classes, class_num):\n",
    "    n = len(sim_classes)\n",
    "    y_true = np.zeros(n)\n",
    "    y_pred = np.zeros(n)\n",
    "    y_true[true_classes == class_num] = 1\n",
    "    y_pred[sim_classes == class_num] = 1\n",
    "    #y_pred[sim_classes != class_num] = 0\n",
    "    \n",
    "    return f1_score(y_true, y_pred)\n",
    "\n",
    "results = []\n",
    "\n",
    "df_merged_classes2 = df_merged_classes.copy()\n",
    "#print(len(df_merged_classes2))\n",
    "#df_merged_classes2 = df_merged_classes2[~df_merged_classes2.tileid.isin(df_summ[df_summ.perc_constraint > 0.6].tileid.values)]\n",
    "#print(len(df_merged_classes2))\n",
    "\n",
    "for m in ['1000', 'rybski', 'marco']: #\n",
    "    \n",
    "    print(\"MODEL\", m)\n",
    "    for class_num in [1,2,3,4]:\n",
    "        df_sub = df_merged_classes2[(df_merged_classes2['class_truth'] == class_num)]\n",
    "        true_classes = df_sub['class_truth'].values\n",
    "        sim_classes = df_sub['class_{}'.format(m)].values\n",
    "        print(class_num, f1_score_classes(true_classes, sim_classes, class_num))\n",
    "        results.append((m, class_num, f1_score_classes(true_classes, sim_classes, class_num)))\n",
    "    print(\"\")\n"
   ]
  },
  {
   "cell_type": "code",
   "execution_count": 30,
   "metadata": {},
   "outputs": [
    {
     "name": "stdout",
     "output_type": "stream",
     "text": [
      "MODEL 1000\n",
      "4 0.6650863423698687\n",
      "\n",
      "MODEL rybski\n",
      "4 0.314622312245435\n",
      "\n",
      "MODEL marco\n",
      "4 0.6808950356123064\n",
      "\n"
     ]
    }
   ],
   "source": [
    "for m in ['1000', 'rybski', 'marco']: #\n",
    "    \n",
    "    print(\"MODEL\", m)\n",
    "    df_sub = df_merged_classes2.copy()\n",
    "    true_classes = df_sub['class_truth'].values\n",
    "    sim_classes = df_sub['class_{}'.format(m)].values\n",
    "    print(class_num, f1_score(true_classes, sim_classes, average='weighted'))\n",
    "    print(\"\")\n"
   ]
  },
  {
   "cell_type": "code",
   "execution_count": 31,
   "metadata": {},
   "outputs": [
    {
     "data": {
      "text/html": [
       "<div>\n",
       "<style scoped>\n",
       "    .dataframe tbody tr th:only-of-type {\n",
       "        vertical-align: middle;\n",
       "    }\n",
       "\n",
       "    .dataframe tbody tr th {\n",
       "        vertical-align: top;\n",
       "    }\n",
       "\n",
       "    .dataframe thead th {\n",
       "        text-align: right;\n",
       "    }\n",
       "</style>\n",
       "<table border=\"1\" class=\"dataframe\">\n",
       "  <thead>\n",
       "    <tr style=\"text-align: right;\">\n",
       "      <th></th>\n",
       "      <th>model</th>\n",
       "      <th>class</th>\n",
       "      <th>f1</th>\n",
       "    </tr>\n",
       "  </thead>\n",
       "  <tbody>\n",
       "    <tr>\n",
       "      <td>0</td>\n",
       "      <td>1000</td>\n",
       "      <td>1</td>\n",
       "      <td>0.893528</td>\n",
       "    </tr>\n",
       "    <tr>\n",
       "      <td>1</td>\n",
       "      <td>1000</td>\n",
       "      <td>2</td>\n",
       "      <td>0.813252</td>\n",
       "    </tr>\n",
       "    <tr>\n",
       "      <td>2</td>\n",
       "      <td>1000</td>\n",
       "      <td>3</td>\n",
       "      <td>0.545940</td>\n",
       "    </tr>\n",
       "    <tr>\n",
       "      <td>3</td>\n",
       "      <td>1000</td>\n",
       "      <td>4</td>\n",
       "      <td>0.797093</td>\n",
       "    </tr>\n",
       "    <tr>\n",
       "      <td>4</td>\n",
       "      <td>rybski</td>\n",
       "      <td>1</td>\n",
       "      <td>0.981422</td>\n",
       "    </tr>\n",
       "  </tbody>\n",
       "</table>\n",
       "</div>"
      ],
      "text/plain": [
       "    model  class        f1\n",
       "0    1000      1  0.893528\n",
       "1    1000      2  0.813252\n",
       "2    1000      3  0.545940\n",
       "3    1000      4  0.797093\n",
       "4  rybski      1  0.981422"
      ]
     },
     "execution_count": 31,
     "metadata": {},
     "output_type": "execute_result"
    }
   ],
   "source": [
    "df = pd.DataFrame(data=results, columns=['model', 'class', 'f1'])\n",
    "df.head()"
   ]
  },
  {
   "cell_type": "code",
   "execution_count": 32,
   "metadata": {},
   "outputs": [
    {
     "name": "stdout",
     "output_type": "stream",
     "text": [
      "Median diff: -151.5715411984116\n"
     ]
    }
   ],
   "source": [
    "original = np.median(df[df['model'] == 'rybski']['f1'].values)\n",
    "decrease = original - np.median(df[df['model'] == '1000']['f1'].values)\n",
    "\n",
    "print(\"Median diff:\", decrease/original*100)"
   ]
  },
  {
   "cell_type": "code",
   "execution_count": 41,
   "metadata": {},
   "outputs": [
    {
     "data": {
      "image/png": "[encoded data removed]",
      "text/plain": [
       "<Figure size 413.175x360 with 1 Axes>"
      ]
     },
     "metadata": {
      "needs_background": "light"
     },
     "output_type": "display_data"
    }
   ],
   "source": [
    "flatui = [np.array([151, 152, 155])/255., np.array([230,231,232])/255.]\n",
    "palette = sns.color_palette(flatui)\n",
    "\n",
    "g = sns.catplot(x=\"class\", y='f1', hue=\"model\", data=df[df.model.isin({'1000', 'rybski'})],\n",
    "                height=5, kind=\"bar\", palette=palette)\n",
    "plt.ylabel(\"F1-score\")\n",
    "\n",
    "plt.savefig('../figures/manuscript/boxplot_classes.pdf', dpi=150, bbox_inches='tight', pad_inches=0.05)"
   ]
  },
  {
   "cell_type": "code",
   "execution_count": 42,
   "metadata": {},
   "outputs": [
    {
     "data": {
      "image/png": "[encoded data removed]",
      "text/plain": [
       "<Figure size 378.675x216 with 1 Axes>"
      ]
     },
     "metadata": {
      "needs_background": "light"
     },
     "output_type": "display_data"
    }
   ],
   "source": [
    "g = sns.catplot(x=\"class\", y='f1', hue=\"model\", data=df,\n",
    "                height=3, kind=\"bar\", palette=palette, aspect=1.5)\n",
    "plt.ylabel(\"F1-score\")\n",
    "\n",
    "plt.savefig('../figures/manuscript/multi_boxplot_classes.pdf', dpi=150, bbox_inches='tight', pad_inches=0.05)"
   ]
  },
  {
   "cell_type": "code",
   "execution_count": null,
   "metadata": {},
   "outputs": [],
   "source": []
  }
 ],
 "metadata": {
  "kernelspec": {
   "display_name": "Python 3",
   "language": "python",
   "name": "python3"
  },
  "language_info": {
   "codemirror_mode": {
    "name": "ipython",
    "version": 3
   },
   "file_extension": ".py",
   "mimetype": "text/x-python",
   "name": "python",
   "nbconvert_exporter": "python",
   "pygments_lexer": "ipython3",
   "version": "3.9.1"
  }
 },
 "nbformat": 4,
 "nbformat_minor": 2
}
