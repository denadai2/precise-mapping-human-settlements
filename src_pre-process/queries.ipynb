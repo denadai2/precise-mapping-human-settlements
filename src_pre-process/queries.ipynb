{
 "cells": [
  {
   "cell_type": "markdown",
   "metadata": {},
   "source": []
  },
  {
   "cell_type": "markdown",
   "metadata": {},
   "source": [
    "## "
   ]
  },
  {
   "cell_type": "raw",
   "metadata": {},
   "source": [
    "for a in `ls -1 tif_sources/*.tif`; do python3 gdal_edit.py -unsetnodata $a; done"
   ]
  },
  {
   "cell_type": "markdown",
   "metadata": {},
   "source": [
    "## Land - water"
   ]
  },
  {
   "cell_type": "raw",
   "metadata": {},
   "source": [
    "create materialized view landpolygons as select (st_dump(geom)).geom from land;\n",
    "create index on landpolygons using gist (geom);"
   ]
  },
  {
   "cell_type": "raw",
   "metadata": {},
   "source": [
    "CREATE TABLE water_etsimila (\n",
    "    id SERIAL,\n",
    "    geom geometry(MultiPolygon,4326),\n",
    "    type varchar(200)\n",
    ");\n",
    "CREATE INDEX ON water_etsimila (type);\n",
    "CREATE INDEX ON water_etsimila using gist (geom);"
   ]
  },
  {
   "cell_type": "raw",
   "metadata": {},
   "source": [
    "INSERT INTO water_etsimila (geom, type) (SELECT ST_Force2D(geom), 'lakes' FROM lakes);"
   ]
  },
  {
   "cell_type": "markdown",
   "metadata": {},
   "source": [
    "## Grids"
   ]
  },
  {
   "cell_type": "raw",
   "metadata": {},
   "source": [
    "CREATE OR REPLACE FUNCTION ST_CreateFishnet(\n",
    "        nrow integer, ncol integer,\n",
    "        xsize float, ysize float,\n",
    "        x0 float DEFAULT 0, y0 float DEFAULT 0,\n",
    "        OUT \"row\" integer, OUT col integer,\n",
    "        OUT geom geometry)\n",
    "    RETURNS SETOF record AS\n",
    "$$\n",
    "SELECT i + 1 AS row, j + 1 AS col, ST_Translate(cell, j * $3 + $5, i * $4 + $6) AS geom\n",
    "FROM generate_series(0, $1 - 1) AS i,\n",
    "     generate_series(0, $2 - 1) AS j,\n",
    "(\n",
    "SELECT ('POLYGON((0 0, 0 '||$4||', '||$3||' '||$4||', '||$3||' 0,0 0))')::geometry AS cell\n",
    ") AS foo;\n",
    "$$ LANGUAGE sql IMMUTABLE STRICT;"
   ]
  },
  {
   "cell_type": "raw",
   "metadata": {},
   "source": [
    "CREATE TABLE tiles (tileid serial, type text, parent_type text, geom geometry(MultiPolygon,4326), PRIMARY KEY(tileid));\n",
    "CREATE INDEX ON tiles (type);\n",
    "CREATE INDEX ON tiles (parent_type);\n",
    "CREATE INDEX ON tiles using gist (geom);\n",
    "CLUSTER tiles USING tiles_geom_idx;"
   ]
  },
  {
   "cell_type": "code",
   "execution_count": 31,
   "metadata": {},
   "outputs": [
    {
     "name": "stdout",
     "output_type": "stream",
     "text": [
      "44 177.06022338537613\n",
      "16 72.02127571286402\n"
     ]
    }
   ],
   "source": [
    "pixel_size = 16*0.500085924269#0.000089830415712\n",
    "p = 0\n",
    "i = 0\n",
    "minx = -175.0002673\n",
    "maxx = 180\n",
    "while p<(abs(minx)+maxx) and p+minx < maxx-pixel_size:\n",
    "    i += 1\n",
    "    p += pixel_size\n",
    "print(i, p+minx)\n",
    "\n",
    "p = 0\n",
    "i = 0\n",
    "miny = -56.0007209\n",
    "maxy = 75.02179125847826\n",
    "while p<(abs(miny)+maxy) and p+miny < maxy-pixel_size:\n",
    "    i += 1\n",
    "    p += pixel_size\n",
    "print(i, p+miny)"
   ]
  },
  {
   "cell_type": "raw",
   "metadata": {},
   "source": [
    "INSERT INTO tiles (type, parent_type, geom) SELECT 'tile05', 'tile1', ST_SetSRID(st_multi(geom), 4326) FROM ST_CreateFishnet(262, 708, 0.500085924269, 0.500085924269, -175.0002673, -56.0007209) AS cells;\n",
    "\n",
    "INSERT INTO tiles (type, parent_type, geom) SELECT 'tile1', 'tile2', ST_SetSRID(st_multi(geom), 4326) FROM ST_CreateFishnet(131, 354, 0.500085924269*2, 0.500085924269*2, -175.0002673, -56.0007209) AS cells;\n",
    "\n",
    "INSERT INTO tiles (type, parent_type, geom) SELECT 'tile2', 'tile4', ST_SetSRID(st_multi(geom), 4326) FROM ST_CreateFishnet(66, 177, 0.500085924269*4, 0.500085924269*4, -175.0002673, -56.0007209) AS cells;\n",
    "\n",
    "INSERT INTO tiles (type, parent_type, geom) SELECT 'tile4', 'tile8', ST_SetSRID(st_multi(geom), 4326) FROM ST_CreateFishnet(33, 89, 0.500085924269*8, 0.500085924269*8, -175.0002673, -56.0007209) AS cells;\n",
    "\n",
    "INSERT INTO tiles (type, parent_type, geom) SELECT 'tile8', 'tileglobal', ST_SetSRID(st_multi(geom), 4326) FROM ST_CreateFishnet(17, 45, 0.500085924269*16, 0.500085924269*16, -175.0002673, -56.0007209) AS cells;\n",
    "\n",
    "INSERT INTO tiles (type, parent_type, geom) SELECT 'tileglobal', 'god', st_multi(ST_Buffer(st_setsrid(ST_Extent(geom)::geometry, 4326), 0.001)) as geom FROM tiles WHERE type='tile05';\n",
    "\n",
    "UPDATE tiles AS t SET geom=ST_Multi(ST_Intersection(t.geom, (SELECT ST_MakeEnvelope(150, ST_YMin(geom), ST_XMax(geom), ST_YMax(geom), 4326) FROM (select ST_Extent(geom) as geom FROM tiles WHERE type='tile05' ) a))) \n",
    "WHERE st_xmax(Box2D(t.geom)) > 170 AND t.type IN ('tile4', 'tile8');\n",
    "\n",
    "UPDATE tiles AS t SET geom=ST_Multi(ST_Intersection(t.geom, (SELECT ST_MakeEnvelope(ST_XMin(geom), 50, ST_XMax(geom), ST_YMax(geom), 4326) FROM (select ST_Extent(geom) as geom FROM tiles WHERE type='tile05' ) a)))\n",
    "WHERE st_ymax(Box2D(t.geom)) > 70 AND t.type IN ('tile4', 'tile8');\n",
    "\n",
    "\n",
    "UPDATE tiles AS t05 SET geom=(CASE \n",
    "                       WHEN ST_CoveredBy(t05.geom, t1.geom) \n",
    "                       THEN t05.geom \n",
    "                       ELSE ST_Multi(ST_Intersection(t05.geom, t1.geom)) END)\n",
    "FROM tiles AS t1\n",
    "WHERE ST_Intersects(t05.geom, t1.geom) AND (NOT ST_Touches(t05.geom, t1.geom)) AND t05.type='tile4' AND t1.type='tile8' AND ST_AREA(ST_Intersection(t05.geom, t1.geom))/ST_AREA(t05.geom)::float > 0.5;\n",
    "\n",
    "UPDATE tiles AS t05 SET geom=(CASE \n",
    "                       WHEN ST_CoveredBy(t05.geom, t1.geom) \n",
    "                       THEN t05.geom \n",
    "                       ELSE ST_Multi(ST_Intersection(t05.geom, t1.geom)) END)\n",
    "FROM tiles AS t1\n",
    "WHERE ST_Intersects(t05.geom, t1.geom) AND (NOT ST_Touches(t05.geom, t1.geom)) AND t05.type='tile2' AND t1.type='tile4' AND ST_AREA(ST_Intersection(t05.geom, t1.geom))/ST_AREA(t05.geom)::float > 0.5;\n",
    "\n",
    "\n",
    "UPDATE tiles AS t05 SET geom=(CASE \n",
    "                       WHEN ST_CoveredBy(t05.geom, t1.geom) \n",
    "                       THEN t05.geom \n",
    "                       ELSE ST_Multi(ST_Intersection(t05.geom, t1.geom)) END)\n",
    "FROM tiles AS t1\n",
    "WHERE ST_Intersects(t05.geom, t1.geom) AND (NOT ST_Touches(t05.geom, t1.geom)) AND t05.type='tile1' AND t1.type='tile2' AND ST_AREA(ST_Intersection(t05.geom, t1.geom))/ST_AREA(t05.geom)::float > 0.5;\n",
    "\n",
    "\n",
    "UPDATE tiles AS t05 SET geom=(CASE \n",
    "                       WHEN ST_CoveredBy(t05.geom, t1.geom) \n",
    "                       THEN t05.geom \n",
    "                       ELSE ST_Multi(ST_Intersection(t05.geom, t1.geom)) END)\n",
    "FROM tiles AS t1\n",
    "WHERE ST_Intersects(t05.geom, t1.geom) AND (NOT ST_Touches(t05.geom, t1.geom)) AND t05.type='tile05' AND t1.type='tile1' AND ST_AREA(ST_Intersection(t05.geom, t1.geom))/ST_AREA(t05.geom)::float > 0.5;"
   ]
  },
  {
   "cell_type": "raw",
   "metadata": {},
   "source": [
    "CREATE MATERIALIZED VIEW tiles_map_contains AS\n",
    "select tup.tileid as tup_tileid, tup.type as tup_type, tlow.tileid as tlow_tileid, tlow.type as tlow_type \n",
    "FROM tiles tup\n",
    "INNER JOIN tiles tlow on st_contains(tup.geom, tlow.geom) and tlow.parent_type=tup.type;\n",
    "CREATE INDEX ON tiles_map_contains (tup_tileid);\n",
    "CREATE INDEX ON tiles_map_contains (tup_type);\n",
    "CREATE INDEX ON tiles_map_contains (tlow_tileid);\n",
    "CREATE INDEX ON tiles_map_contains (tlow_type);"
   ]
  },
  {
   "cell_type": "raw",
   "metadata": {},
   "source": [
    "CREATE MATERIALIZED VIEW tiles_land AS (\n",
    "WITH RECURSIVE tiles_landrecursive AS (\n",
    "    SELECT t.tileid, t.type, t.parent_type, t.geom, (CASE \n",
    "                       WHEN ST_CoveredBy(t.geom, ST_Union(l.geom)) \n",
    "                       THEN t.geom \n",
    "                       ELSE ST_Multi(ST_Intersection(t.geom,ST_Union(l.geom))) END) as tile_real_geom\n",
    "    FROM tiles t\n",
    "    INNER JOIN dumped_macro l ON ST_Intersects(l.geom, t.geom) AND NOT ST_Touches(l.geom, t.geom) \n",
    "    WHERE t.type=(select max(type) from tiles)\n",
    "    GROUP BY t.tileid, t.type, t.parent_type, t.geom\n",
    "UNION ALL\n",
    "    SELECT tmap.tlow_tileid as tileid, tmap.tlow_type as type, tmap.tup_type as parent_type, t2.geom, ST_Multi(ST_Intersection(t2.geom,c.tile_real_geom)) as tile_real_geom\n",
    "    FROM tiles_map_contains tmap\n",
    "    INNER JOIN tiles_landrecursive c ON c.tileid = tmap.tup_tileid AND c.type = tmap.tup_type \n",
    "    INNER JOIN tiles t2 ON t2.tileid=tmap.tlow_tileid AND t2.type = tmap.tlow_type\n",
    ")\n",
    "SELECT t.*, (COALESCE(ST_AREA(t.tile_real_geom::geography), 0.0)/1000000.0)::NUMERIC(15,6) as tile_km2\n",
    "FROM tiles_landrecursive t\n",
    "WHERE NOT ST_IsEmpty(t.tile_real_geom)\n",
    ");\n",
    "CREATE INDEX ON tiles_land using gist (geom);\n",
    "CREATE INDEX ON tiles_land using gist (tile_real_geom);\n",
    "CREATE INDEX ON tiles_land (type);\n",
    "CREATE INDEX ON tiles_land (parent_type);\n",
    "CREATE INDEX ON tiles_land (tileid);\n",
    "CLUSTER tiles_land USING tiles_land_geom_idx;"
   ]
  },
  {
   "cell_type": "raw",
   "metadata": {},
   "source": [
    "CREATE MATERIALIZED VIEW tiles_boundaries AS\n",
    "SELECT tileid, type, parent_type, st_buffer(ST_Boundary(geom)::geography, 5)::geometry AS geom\n",
    "FROM tiles_land;\n",
    "CREATE INDEX ON tiles_boundaries using gist (geom);\n",
    "CREATE INDEX ON tiles_boundaries (type);\n",
    "CREATE INDEX ON tiles_boundaries (parent_type);\n",
    "CLUSTER tiles_boundaries USING tiles_boundaries_geom_idx;"
   ]
  },
  {
   "cell_type": "raw",
   "metadata": {},
   "source": [
    "CREATE MATERIALIZED VIEW tiles_diagonals AS\n",
    "select (st_dump(st_split(a.geom, ST_Rotate(diag_geom, pi()/2, st_centroid(diag_geom))))).geom, a.parent_type, tileid\n",
    "FROM (\n",
    "    SELECT (st_dump(st_split(t.geom, diag_geom))).geom, diag_geom, parent_type, tileid\n",
    "    FROM (\n",
    "        SELECT t1.tileid, t1.type, parent_type, t1.geom, ST_BoundingDiagonal(t1.geom, true) as diag_geom\n",
    "        FROM tiles_boundaries t1\n",
    "    ) t\n",
    ") a;\n",
    "create index on tiles_diagonals using gist (geom);"
   ]
  },
  {
   "cell_type": "raw",
   "metadata": {},
   "source": [
    "CREATE MATERIALIZED VIEW tiles_inner_borders AS\n",
    "SELECT parent_tileid, parent_type, geom, array_agg(tlow_tileid) as tlow_tileids\n",
    "FROM (\n",
    "    select t.tileid as parent_tileid, a.parent_type, ST_UNION(a.geom) as geom\n",
    "    from tiles_diagonals a\n",
    "    inner join tiles_land t on a.parent_type=t.type AND st_intersects(ST_Centroid(t.geom), a.geom)\n",
    "    GROUP BY parent_tileid, a.parent_type\n",
    ") outside \n",
    "INNER JOIN tiles_map_contains tmap ON outside.parent_tileid = tmap.tup_tileid AND outside.parent_type=tmap.tup_type\n",
    "GROUP BY parent_tileid, parent_type, geom;\n",
    "CREATE INDEX ON tiles_inner_borders using gist (geom);\n",
    "CREATE INDEX ON tiles_inner_borders (parent_type);\n",
    "CREATE INDEX ON tiles_inner_borders (parent_tileid);\n",
    "CREATE INDEX ON tiles_inner_borders USING GIN (tlow_tileids);\n",
    "\n",
    "CLUSTER tiles_inner_borders USING tiles_inner_borders_geom_idx;"
   ]
  },
  {
   "cell_type": "markdown",
   "metadata": {},
   "source": [
    "Reference terrain (steep parts) + sum km^2 for water"
   ]
  },
  {
   "cell_type": "raw",
   "metadata": {},
   "source": [
    "CREATE MATERIALIZED VIEW tiles_cannoturban AS (\n",
    "WITH RECURSIVE tiles_cannoturban_recursive AS (\n",
    "    SELECT t.tileid, t.type, SUM((ST_Area((CASE \n",
    "                       WHEN ST_CoveredBy(w.geom, t.tile_real_geom) \n",
    "                       THEN w.geom \n",
    "                       ELSE ST_Multi(ST_Intersection(w.geom, t.tile_real_geom)) END)::geography)/1000000.0)::NUMERIC(13,6)) as noland_km2 \n",
    "    FROM water_etsimila w\n",
    "    INNER JOIN tiles_land t ON ST_Intersects(w.geom, t.tile_real_geom) AND NOT ST_Touches(w.geom, t.tile_real_geom)\n",
    "    WHERE t.type='tile05'\n",
    "    GROUP BY t.tileid, t.type\n",
    "UNION ALL\n",
    "    SELECT tmap.tup_tileid as tileid, tmap.tup_type as type, c.noland_km2::NUMERIC(13,6)\n",
    "    FROM tiles_map_contains tmap\n",
    "    INNER JOIN tiles_cannoturban_recursive c ON c.tileid = tmap.tlow_tileid AND c.type = tmap.tlow_type \n",
    ")\n",
    "SELECT t.tileid, t.type, SUM(noland_km2::NUMERIC(13,6)) as noland_km2\n",
    "FROM tiles_cannoturban_recursive t\n",
    "GROUP BY t.tileid, t.type\n",
    ");\n",
    "CREATE INDEX ON tiles_cannoturban (tileid, type);\n",
    "CREATE INDEX ON tiles_cannoturban (tileid);\n",
    "CREATE INDEX ON tiles_cannoturban (type);"
   ]
  },
  {
   "cell_type": "raw",
   "metadata": {},
   "source": [
    "CREATE MATERIALIZED VIEW tiles_coarse_water AS (\n",
    "SELECT t.tileid, t.type, ST_Union((CASE \n",
    "                       WHEN ST_CoveredBy(w.geom, t.geom) \n",
    "                       THEN w.geom \n",
    "                       ELSE ST_Multi(ST_Intersection(w.geom, t.geom)) END)) as geom\n",
    "FROM water_etsimila w\n",
    "INNER JOIN tiles_land t ON ST_Intersects(w.geom, t.geom) AND NOT ST_Touches(w.geom, t.geom)\n",
    "WHERE t.type='tile1' OR t.type='tile05'\n",
    "GROUP BY t.tileid, t.type\n",
    ");\n",
    "CREATE INDEX ON tiles_coarse_water (tileid);\n",
    "CREATE INDEX ON tiles_coarse_water (type);"
   ]
  },
  {
   "cell_type": "markdown",
   "metadata": {},
   "source": [
    "#### Terrain and unused lands"
   ]
  },
  {
   "cell_type": "raw",
   "metadata": {},
   "source": [
    "CREATE TABLE steep_areas_05x05 AS\n",
    "SELECT SUM((ST_AREA(geom::geography)/1000000.0)::NUMERIC(13,6)) as steep_area_km2, tileid\n",
    "FROM (\n",
    "    SELECT wkb_geometry as geom, t.tileid\n",
    "    FROM terrain_gp w\n",
    "    INNER JOIN tiles_land t ON ST_CONTAINS(t.tile_real_geom, w.wkb_geometry) \n",
    "    WHERE t.type = 'tile05'\n",
    "    \n",
    "    UNION ALL\n",
    "\n",
    "    select geom, tileid from(\n",
    "        SELECT\n",
    "          geom, tileid, ROW_NUMBER() OVER (PARTITION BY gid ORDER BY area DESC) AS r\n",
    "        from (\n",
    "            select c.ogc_fid as gid, c.wkb_geometry as geom, a.tileid, ST_Area(ST_Intersection(c.wkb_geometry,a.geom)) as area\n",
    "            from terrain_gp as c \n",
    "            inner join tiles_land as a on ST_Intersects(a.tile_real_geom, c.wkb_geometry) AND NOT ST_CONTAINS(a.tile_real_geom, c.wkb_geometry)\n",
    "            WHERE a.type = 'tile05'\n",
    "        ) as dtable\n",
    "    ) x\n",
    "    WHERE x.r = 1\n",
    "\n",
    ") outside_query\n",
    "GROUP BY tileid;\n",
    "CREATE INDEX ON steep_areas_05x05 (tileid);"
   ]
  },
  {
   "cell_type": "raw",
   "metadata": {},
   "source": [
    "CREATE TABLE tiles_steep AS (\n",
    "WITH RECURSIVE terrainrecursive AS (\n",
    "    SELECT t.tileid, 'tile05' as type, steep_area_km2::NUMERIC(13,6) as steep_km2\n",
    "    FROM steep_areas_05x05 t\n",
    "UNION ALL\n",
    "    SELECT tmap.tup_tileid as tileid, tmap.tup_type as type, c.steep_km2::NUMERIC(13,6)\n",
    "    FROM tiles_map_contains tmap\n",
    "    INNER JOIN terrainrecursive c ON c.tileid = tmap.tlow_tileid AND c.type = tmap.tlow_type \n",
    ")\n",
    "SELECT t.tileid, t.type, SUM(steep_km2::NUMERIC(13,6)) as steep_km2\n",
    "FROM terrainrecursive t\n",
    "GROUP BY t.tileid, t.type\n",
    ");\n",
    "CREATE INDEX ON tiles_steep (tileid);\n",
    "CREATE INDEX ON tiles_steep (type);"
   ]
  },
  {
   "cell_type": "markdown",
   "metadata": {},
   "source": [
    "### Macro areas"
   ]
  },
  {
   "cell_type": "raw",
   "metadata": {},
   "source": [
    "UPDATE final_marcoii SET wkb_geometry=ST_SimplifyPreserveTopology(wkb_geometry, 0.0005);"
   ]
  },
  {
   "cell_type": "raw",
   "metadata": {},
   "source": [
    "CREATE MATERIALIZED VIEW dumped_macro AS\n",
    "SELECT macro, (ST_Dump(wkb_geometry)).geom as geom\n",
    "FROM final_marcoii\n",
    "WHERE macro IS NOT NULL;\n",
    "CREATE INDEX ON dumped_macro (macro);\n",
    "CREATE INDEX ON dumped_macro USING GIST (geom);"
   ]
  },
  {
   "cell_type": "raw",
   "metadata": {},
   "source": [
    "CREATE MATERIALIZED VIEW tiles_macros AS (\n",
    "WITH RECURSIVE tiles_macros_recursive AS (\n",
    "    SELECT m.macro, t.tileid, t.type\n",
    "    FROM tiles_land t \n",
    "    INNER JOIN dumped_macro m ON ST_Intersects(t.geom, m.geom) AND NOT ST_Touches(t.geom, m.geom)\n",
    "    WHERE t.type='tile05'\n",
    "UNION ALL\n",
    "    SELECT c.macro, tmap.tup_tileid as tileid, tmap.tup_type as type\n",
    "    FROM tiles_map_contains tmap\n",
    "    INNER JOIN tiles_macros_recursive c ON c.tileid = tmap.tlow_tileid AND c.type = tmap.tlow_type\n",
    ")\n",
    "SELECT DISTINCT macro, tileid, type\n",
    "FROM tiles_macros_recursive\n",
    ");\n",
    "CREATE INDEX ON tiles_macros (macro);\n",
    "CREATE INDEX ON tiles_macros (tileid);\n",
    "CREATE INDEX ON tiles_macros (type);"
   ]
  },
  {
   "cell_type": "raw",
   "metadata": {},
   "source": [
    "CREATE MATERIALIZED VIEW tiles_in_macro AS (\n",
    "WITH tiles_n_macros AS (\n",
    "    SELECT t.tileid, t.type, CASE WHEN COUNT(DISTINCT macro) = 1 THEN 1 ELSE 0 END as has_one_macro\n",
    "    FROM tiles_macros t\n",
    "    GROUP BY t.tileid, t.type) \n",
    "(SELECT array_agg(t.tileid) as tileids, t.type, t.macro, has_one_macro\n",
    "FROM tiles_macros t \n",
    "INNER JOIN tiles_n_macros m ON m.tileid = t.tileid AND m.type = t.type\n",
    "WHERE has_one_macro = 1\n",
    "GROUP BY t.macro, t.type, has_one_macro)\n",
    "\n",
    "UNION ALL\n",
    "\n",
    "(SELECT array_agg(t.tileid) as tileids, t.type, NULL, has_one_macro\n",
    "FROM tiles_macros t \n",
    "INNER JOIN tiles_n_macros m ON m.tileid = t.tileid AND m.type = t.type\n",
    "WHERE has_one_macro = 0\n",
    "GROUP BY t.type, has_one_macro)\n",
    "\n",
    ");\n",
    "CREATE INDEX ON tiles_in_macro USING GIN (tileids);\n",
    "CREATE INDEX ON tiles_in_macro (type);\n",
    "CREATE INDEX ON tiles_in_macro (has_one_macro);"
   ]
  },
  {
   "cell_type": "raw",
   "metadata": {},
   "source": [
    "CREATE MATERIALIZED VIEW tiles_macros_geom AS\n",
    "SELECT tileid, type, macro, tile_macro_geom, has_one_macro, (ST_AREA(tile_macro_geom::geography)/1000000)::NUMERIC(15,6) as tile_km2\n",
    "FROM (\n",
    "    SELECT tileid, tl.type, m.macro, ST_Multi(ST_Intersection(m.wkb_geometry, tl.tile_real_geom)) as tile_macro_geom, tm.has_one_macro\n",
    "    FROM tiles_land tl \n",
    "    INNER JOIN tiles_in_macro tm ON tl.tileid = ANY(tm.tileids) AND tm.type = tl.type\n",
    "    INNER JOIN final_marcoii m ON ST_Intersects(tl.geom, m.wkb_geometry)\n",
    "    WHERE has_one_macro = 0 AND tl.type NOT IN ('tile4', 'tile8', 'global')\n",
    ") multiples\n",
    "\n",
    "UNION ALL\n",
    "\n",
    "SELECT tileid, tl.type, tm.macro, tl.tile_real_geom as tile_macro_geom, tm.has_one_macro, tl.tile_km2\n",
    "FROM tiles_land tl \n",
    "INNER JOIN tiles_in_macro tm ON tl.tileid = ANY(tm.tileids) AND tm.type = tl.type\n",
    "WHERE tm.has_one_macro = 1 AND tl.type NOT IN ('tile4', 'tile8', 'global')\n",
    "\n",
    ";\n",
    "CREATE INDEX ON tiles_macros_geom (tileid);\n",
    "CREATE INDEX ON tiles_macros_geom (type);\n",
    "CREATE INDEX ON tiles_macros_geom (macro);\n",
    "CREATE INDEX ON tiles_macros_geom (has_one_macro);\n",
    "CREATE INDEX ON tiles_macros_geom USING GIST (tile_macro_geom);"
   ]
  },
  {
   "cell_type": "raw",
   "metadata": {},
   "source": [
    "CREATE MATERIALIZED VIEW macro_tiles_steep AS\n",
    "SELECT macro, tileid, type, SUM(steep_km2::NUMERIC(15,6)) as steep_km2\n",
    "FROM (\n",
    "    SELECT t.tileid, ts.type, ts.macro, steep_km2\n",
    "    FROM tiles_steep t\n",
    "    INNER JOIN tiles_in_macro ts ON t.tileid = ANY(ts.tileids) AND ts.type=t.type\n",
    "    WHERE ts.has_one_macro = 1\n",
    "\n",
    "    UNION ALL\n",
    "\n",
    "    SELECT m.tileid, m.type, m.macro, SUM((ST_AREA(t.wkb_geometry::geography)/1000000.0)::NUMERIC(13,6)) as steep_km2\n",
    "    FROM terrain_gp t \n",
    "    INNER JOIN tiles_macros_geom m ON ST_CoveredBy(t.wkb_geometry, m.tile_macro_geom)\n",
    "    WHERE m.has_one_macro = 0\n",
    "    GROUP BY m.tileid, m.type, m.macro\n",
    ") temp\n",
    "GROUP BY tileid, type, macro;\n",
    "CREATE INDEX ON macro_tiles_steep (macro);\n",
    "CREATE INDEX ON macro_tiles_steep (tileid);\n",
    "CREATE INDEX ON macro_tiles_steep (type);"
   ]
  },
  {
   "cell_type": "raw",
   "metadata": {},
   "source": [
    "CREATE MATERIALIZED VIEW macro_tiles_cannoturban AS (\n",
    "WITH RECURSIVE macro_tiles_cannoturban_recursive AS (\n",
    "    (\n",
    "        SELECT t.macro, tileid, t.type, noland_km2\n",
    "        FROM tiles_cannoturban c\n",
    "        INNER JOIN tiles_in_macro t ON c.tileid = ANY(t.tileids) AND t.type = c.type\n",
    "        WHERE t.has_one_macro = 1 AND c.type = 'tile05'\n",
    "\n",
    "    UNION ALL\n",
    "\n",
    "        SELECT t.macro, t.tileid, t.type, (SUM(ST_AREA(ST_Multi(ST_Intersection(w.geom, t.tile_macro_geom))::geography))/1000000.0)::NUMERIC(13,6) as noland_km2 \n",
    "        FROM water_etsimila w\n",
    "        INNER JOIN tiles_macros_geom t ON ST_Intersects(w.geom, t.tile_macro_geom) AND NOT ST_Touches(w.geom, t.tile_macro_geom)\n",
    "        WHERE t.type = 'tile05' AND t.has_one_macro = 0\n",
    "        GROUP BY t.macro, t.type, t.tileid\n",
    "    )\n",
    "UNION ALL\n",
    "    SELECT c.macro, tmap.tup_tileid as tileid, tmap.tup_type as type, c.noland_km2::NUMERIC(13,6)\n",
    "    FROM tiles_map_contains tmap\n",
    "    INNER JOIN macro_tiles_cannoturban_recursive c ON c.tileid = tmap.tlow_tileid AND c.type = tmap.tlow_type \n",
    ")\n",
    "SELECT t.macro, t.tileid, t.type, SUM(noland_km2::NUMERIC(13,6)) as noland_km2\n",
    "FROM macro_tiles_cannoturban_recursive t\n",
    "GROUP BY t.macro, t.tileid, t.type\n",
    ");\n",
    "CREATE INDEX ON macro_tiles_cannoturban (macro);\n",
    "CREATE INDEX ON macro_tiles_cannoturban (tileid);\n",
    "CREATE INDEX ON macro_tiles_cannoturban (type);"
   ]
  },
  {
   "cell_type": "markdown",
   "metadata": {},
   "source": [
    "## Urban areas"
   ]
  },
  {
   "cell_type": "raw",
   "metadata": {},
   "source": [
    "CREATE TABLE urban_areas (\n",
    "    gid SERIAL, \n",
    "    geom geometry(Polygon,4326),\n",
    "    urban_area_km2 numeric(13,6),\n",
    "    PRIMARY KEY(gid));\n",
    "CREATE INDEX ON urban_areas USING GIST (geom);\n",
    "CREATE INDEX ON urban_areas USING hash (gid);"
   ]
  },
  {
   "cell_type": "raw",
   "metadata": {},
   "source": [
    "CREATE TABLE urban_areas_tiles (\n",
    "    gid integer, \n",
    "    tileid integer, \n",
    "    type text,\n",
    "    PRIMARY KEY(gid,type));\n",
    "CREATE INDEX ON urban_areas_tiles (tileid);\n",
    "CREATE INDEX ON urban_areas_tiles USING hash (tileid);\n",
    "CREATE index ON urban_areas_tiles USING BRIN (type);\n",
    "CREATE INDEX ON urban_areas_tiles USING hash (gid);"
   ]
  },
  {
   "cell_type": "raw",
   "metadata": {},
   "source": [
    "CREATE VIEW urban_areas_view AS\n",
    "SELECT u.gid, u.geom, u.urban_area_km2, t.tileid, t.type\n",
    "FROM urban_areas u\n",
    "INNER JOIN urban_areas_tiles t ON t.gid=u.gid;"
   ]
  },
  {
   "cell_type": "markdown",
   "metadata": {},
   "source": [
    "## 1- Queries"
   ]
  },
  {
   "cell_type": "markdown",
   "metadata": {},
   "source": [
    "Query for all the areas contains. For the areas intersecting but not contained, we arbitrarily choose one tile."
   ]
  },
  {
   "cell_type": "raw",
   "metadata": {},
   "source": [
    "DROP index urban_areas_geom_idx;\n",
    "\n",
    "INSERT INTO urban_areas (gid, geom, urban_area_km2)\n",
    "SELECT ogc_fid as gid, wkb_geometry as geom, (ST_AREA(wkb_geometry::geography)/1000000.0)::NUMERIC(13,6)\n",
    "FROM world075_gp w;\n",
    "\n",
    "CREATE INDEX ON urban_areas USING GIST (geom);\n",
    "CREATE INDEX ON urban_areas USING HASH (gid);"
   ]
  },
  {
   "cell_type": "markdown",
   "metadata": {},
   "source": [
    "drop some artifacts (vertical and horizontal lines)"
   ]
  },
  {
   "cell_type": "markdown",
   "metadata": {},
   "source": [
    "DELETE FROM urban_areas\n",
    "WHERE (abs(ST_YMax(geom)-ST_YMin(geom)) >= 0.0005 AND abs(ST_XMax(geom)-ST_XMin(geom)) <= 9.08304157104235e-05)\n",
    "OR (abs(ST_XMax(geom)-ST_XMin(geom)) >= 0.0005 AND abs(ST_YMax(geom)-ST_YMin(geom)) <= 9.08304157104235e-05);"
   ]
  },
  {
   "cell_type": "raw",
   "metadata": {},
   "source": [
    "DELETE FROM urban_areas\n",
    "WHERE gid IN (SELECT gid                                                      \n",
    "FROM (SELECT gid, geom, ST_Extent(geom) as extent from urban_areas GROUP BY gid, geom) as tmp\n",
    "WHERE \n",
    "(abs(ST_XMax(extent)-ST_XMin(extent)) > 0.45 AND abs(ST_YMax(extent)-ST_YMin(extent)) < 0.1)\n",
    "OR \n",
    "(abs(ST_YMax(extent)-ST_YMin(extent)) > 0.45 AND abs(ST_XMax(extent)-ST_XMin(extent)) < 0.1));"
   ]
  },
  {
   "cell_type": "raw",
   "metadata": {},
   "source": [
    "create materialized view oversize20192 as \n",
    "SELECT a.gid, COUNT(*) as c\n",
    "FROM (SELECT geom, gid, tileid, ST_XMax(ST_Extent(i.geom)) as xmax, ST_XMin(ST_Extent(i.geom)) as xmin FROM urban_areas_view i WHERE abs(ST_XMax(i.geom)-ST_XMin(i.geom)) <= 9.08304157104235e-05 GROUP BY tileid, gid, geom) a\n",
    "INNER JOIN (select gid, tileid, ST_XMax(ST_Extent(u.geom)) as xmax, ST_XMin(ST_Extent(u.geom)) as xmin \n",
    "FROM urban_areas_view u GROUP BY tileid, gid, geom) b ON b.xmax = a.xmax AND b.xmin = a.xmin AND a.gid != b.gid AND a.tileid = b.tileid\n",
    "GROUP BY a.gid\n",
    "HAVING COUNT(*) > 10;\n",
    "\n",
    "create materialized view oversize20193 as \n",
    "SELECT a.gid, COUNT(*) as c\n",
    "FROM (SELECT geom, gid, tileid, ST_YMax(ST_Extent(i.geom)) as ymax, ST_YMin(ST_Extent(i.geom)) as ymin FROM urban_areas_view i WHERE abs(ST_YMax(i.geom)-ST_YMin(i.geom)) <= 9.08304157104235e-05 GROUP BY tileid, gid, geom) a\n",
    "INNER JOIN (select gid, tileid, ST_YMax(ST_Extent(u.geom)) as ymax, ST_YMin(ST_Extent(u.geom)) as ymin \n",
    "FROM urban_areas_view u GROUP BY tileid, gid, geom) b ON b.ymax = a.ymax AND b.ymin = a.ymin AND a.gid != b.gid AND a.tileid = b.tileid\n",
    "GROUP BY a.gid\n",
    "HAVING COUNT(*) > 10;\n",
    "\n",
    "DELETE FROM urban_areas WHERE gid IN (SELECT gid FROM oversize20192 WHERE c >= 20);\n",
    "DELETE FROM urban_areas WHERE gid IN (SELECT gid FROM oversize20193 WHERE c >= 20);"
   ]
  },
  {
   "cell_type": "raw",
   "metadata": {},
   "source": [
    "INSERT INTO urban_areas_tiles (gid, tileid, type) \n",
    "SELECT gid, tileid, 'tile05'\n",
    "FROM (\n",
    "    SELECT gid, t.tileid\n",
    "    FROM urban_areas w\n",
    "    INNER JOIN tiles_land t ON ST_CONTAINS(t.tile_real_geom, w.geom) \n",
    "    WHERE t.type = 'tile05'\n",
    "    \n",
    "    UNION ALL\n",
    "\n",
    "    select gid, tileid from(\n",
    "        SELECT\n",
    "          gid, geom, tileid, ROW_NUMBER() OVER (PARTITION BY gid ORDER BY area DESC) AS r\n",
    "        from (\n",
    "            select c.gid, c.geom as geom, a.tileid, ST_Area(ST_Intersection(c.geom, a.geom)) as area\n",
    "            from urban_areas as c \n",
    "            inner join tiles_land as a on ST_Intersects(a.tile_real_geom, c.geom) AND NOT ST_CONTAINS(a.tile_real_geom, c.geom)\n",
    "            WHERE a.type = 'tile05'\n",
    "        ) as dtable\n",
    "        order by area\n",
    "    ) x\n",
    "    WHERE x.r = 1\n",
    ") outside_query;"
   ]
  },
  {
   "cell_type": "markdown",
   "metadata": {
    "collapsed": true
   },
   "source": [
    "### Tiles > upper-tiles > global"
   ]
  },
  {
   "cell_type": "raw",
   "metadata": {},
   "source": [
    "CREATE TABLE buffer_upgrade (geom geometry(Polygon,4326), urban_area_km2 numeric(13,6), tileid integer);\n",
    "CREATE INDEX ON buffer_upgrade (urban_area_km2);\n",
    "CREATE INDEX ON buffer_upgrade USING GIST (geom);"
   ]
  },
  {
   "cell_type": "raw",
   "metadata": {},
   "source": [
    "CREATE TABLE tiles_upgrade_areas (gid integer, geom geometry(Polygon,4326), tileid integer);\n",
    "CREATE INDEX ON tiles_upgrade_areas USING hash (gid);\n",
    "CREATE INDEX ON tiles_upgrade_areas (tileid);\n",
    "CREATE INDEX ON tiles_upgrade_areas USING hash (tileid);\n",
    "CREATE INDEX ON tiles_upgrade_areas USING gist (geom);"
   ]
  },
  {
   "cell_type": "raw",
   "metadata": {},
   "source": [
    "CREATE TABLE tiles_upgrade_areas_tounion (gid integer, geom geometry(Polygon,4326), tileid integer, has_neighbours boolean);\n",
    "CREATE INDEX ON tiles_upgrade_areas_tounion (has_neighbours) WHERE (has_neighbours = 'f');\n",
    "CREATE INDEX ON tiles_upgrade_areas_tounion (has_neighbours) WHERE (has_neighbours = 't');\n",
    "CREATE INDEX ON tiles_upgrade_areas_tounion USING hash (gid);\n",
    "CREATE INDEX ON tiles_upgrade_areas_tounion USING hash (tileid);\n",
    "CREATE INDEX ON tiles_upgrade_areas_tounion (tileid);\n",
    "CREATE INDEX ON tiles_upgrade_areas_tounion using gist (geom);"
   ]
  },
  {
   "cell_type": "markdown",
   "metadata": {},
   "source": [
    "### tiles upgrades"
   ]
  },
  {
   "cell_type": "raw",
   "metadata": {},
   "source": [
    ">> bash tiles_upgrade.bash 05 1"
   ]
  },
  {
   "cell_type": "raw",
   "metadata": {},
   "source": [
    ">> bash tiles_upgrade.bash 1 2"
   ]
  },
  {
   "cell_type": "raw",
   "metadata": {},
   "source": [
    ">> bash tiles_upgrade.bash 2 4"
   ]
  },
  {
   "cell_type": "raw",
   "metadata": {},
   "source": [
    ">> bash tiles_upgrade.bash 4 8"
   ]
  },
  {
   "cell_type": "code",
   "execution_count": null,
   "metadata": {},
   "outputs": [],
   "source": []
  },
  {
   "cell_type": "code",
   "execution_count": null,
   "metadata": {},
   "outputs": [],
   "source": [
    "INSERT INTO tiles_upgrade_areas (gid, geom, tileid)\n",
    "        SELECT gid, geom, tileid\n",
    "        FROM (\n",
    "                SELECT g.gid, g.geom, globaltile.tileid\n",
    "                FROM urban_areas_view g\n",
    "                INNER JOIN tiles_boundaries b ON ST_INTERSECTS(b.geom, g.geom)\n",
    "                INNER JOIN tiles_land globaltile ON ST_Contains(globaltile.geom, b.geom)\n",
    "                WHERE b.parent_type = 'tileglobal' AND g.type='tile8' and globaltile.type = b.parent_type\n",
    "        ) tilestable;"
   ]
  },
  {
   "cell_type": "code",
   "execution_count": null,
   "metadata": {},
   "outputs": [],
   "source": [
    "INSERT INTO tiles_upgrade_areas_tounion (gid, geom, tileid, has_neighbours)\n",
    "        SELECT g.gid, g.geom, g.tileid,  EXISTS (\n",
    "                    SELECT * from tiles_upgrade_areas g2 WHERE g.gid <> g2.gid AND g.tileid = g2.tileid\n",
    "                    AND ST_Dwithin(g.geom, g2.geom, 0.00001)) as has_neighbours\n",
    "        FROM tiles_upgrade_areas g;"
   ]
  },
  {
   "cell_type": "raw",
   "metadata": {},
   "source": [
    "INSERT INTO buffer_upgrade (SELECT u.geom, (ST_AREA(u.geom::geography)/1000000)::NUMERIC(13,6) as urban_area_km2, 247257 FROM (SELECT (ST_Dump(cluster_geom)).geom FROM (SELECT cid, ST_Buffer(ST_union(geom), -0.00001) AS cluster_geom FROM (SELECT ST_Buffer(geom, 0.00001) as geom, ST_ClusterDBSCAN(geom, 0.00001, 2) over () AS cid FROM tiles_areas_global_from_8x8_tounion g WHERE g.has_neighbours = 't') sq GROUP BY cid) cluster) u);"
   ]
  },
  {
   "cell_type": "raw",
   "metadata": {},
   "source": [
    "INSERT INTO buffer_upgrade (SELECT u.geom, (ST_AREA(u.geom::geography)/1000000)::NUMERIC(13,6) as urban_area_km2, u.tileid FROM (SELECT tileid, (ST_Dump(cluster_geom)).geom FROM (SELECT tileid, cid, ST_Buffer(ST_union(geom), -0.00001) AS cluster_geom FROM (SELECT tileid, ST_Buffer(geom, 0.00001) as geom, ST_ClusterDBSCAN(geom, 0.00001, 2) over (PARTITION BY tileid) AS cid FROM tiles_upgrade_areas_tounion g WHERE g.has_neighbours = 't') sq GROUP BY tileid, cid) cluster) u);"
   ]
  },
  {
   "cell_type": "markdown",
   "metadata": {},
   "source": [
    "#### global"
   ]
  },
  {
   "cell_type": "code",
   "execution_count": null,
   "metadata": {},
   "outputs": [],
   "source": []
  },
  {
   "cell_type": "code",
   "execution_count": null,
   "metadata": {},
   "outputs": [],
   "source": [
    "INSERT INTO urban_areas_tiles (gid, tileid, type)\n",
    "        SELECT g.gid, 247257, 'tileglobal'\n",
    "        FROM urban_areas_view g\n",
    "        WHERE g.type = 'tile8' AND\n",
    "        (NOT EXISTS (SELECT * FROM tiles_areas_global_from_8x8_tounion b WHERE g.gid = b.gid AND has_neighbours = 't'));\n",
    "\n",
    "\n",
    "        WITH ins1 AS (\n",
    "            INSERT INTO urban_areas (geom, urban_area_km2)\n",
    "            SELECT geom, urban_area_km2\n",
    "            FROM buffer_upgrade\n",
    "            RETURNING gid, geom, urban_area_km2\n",
    "           )\n",
    "        INSERT INTO urban_areas_tiles (gid, tileid, type)\n",
    "        SELECT gid, tileid, 'tileglobal'\n",
    "        FROM ins1\n",
    "        INNER JOIN buffer_upgrade t ON ins1.urban_area_km2 = t.urban_area_km2 AND st_DWithin(ins1.geom, t.geom,0) AND ST_CENTROID(ins1.geom) = ST_centroid(t.geom);"
   ]
  },
  {
   "cell_type": "raw",
   "metadata": {},
   "source": [
    "INSERT INTO tiles_upgrade_areas (gid, geom, tileid)\n",
    "SELECT gid, geom, (SELECT tileid from tiles where type = 'tileglobal')\n",
    "FROM (\n",
    "        SELECT g.gid, g.geom\n",
    "        FROM urban_areas_view g \n",
    "        WHERE EXISTS (SELECT * FROM tiles_boundaries b WHERE ST_INTERSECTS(b.geom, g.geom) AND b.parent_type = 'tileglobal') AND g.type='tile8'\n",
    ") tilestable;"
   ]
  },
  {
   "cell_type": "raw",
   "metadata": {},
   "source": [
    "CREATE MATERIALIZED VIEW tiles_areas_global_from_8x8_tounion AS\n",
    "SELECT g.gid, g.geom, EXISTS (\n",
    "            SELECT * from tiles_upgrade_areas g2 WHERE g.gid <> g2.gid \n",
    "            AND ST_Dwithin(g.geom, g2.geom, 0.00001)) as has_neighbours\n",
    "FROM tiles_upgrade_areas g;"
   ]
  },
  {
   "cell_type": "raw",
   "metadata": {},
   "source": [
    ">> bash tiles_upgrade.sh 8 tileglobal"
   ]
  },
  {
   "cell_type": "code",
   "execution_count": null,
   "metadata": {},
   "outputs": [],
   "source": [
    "INSERT INTO urban_areas_tiles (gid, tileid, type) \n",
    "SELECT g.gid, 247257, 'tileglobal'\n",
    "FROM urban_areas_view g\n",
    "WHERE g.type = 'tile8' AND \n",
    "(NOT EXISTS (SELECT * FROM tiles_areas_global_from_8x8_tounion b WHERE g.gid = b.gid AND has_neighbours = 't'));"
   ]
  },
  {
   "cell_type": "raw",
   "metadata": {},
   "source": [
    "INSERT INTO urban_areas_tiles (gid, tileid, type) \n",
    "SELECT g.gid, tmap.tup_tileid as tileid, tmap.tup_type\n",
    "FROM urban_areas_view g\n",
    "INNER JOIN tiles_map_contains tmap ON tmap.tlow_tileid = g.tileid\n",
    "WHERE g.type = 'tile8' AND \n",
    "(NOT EXISTS (SELECT * FROM tiles_areas_global_from_8x8_tounion b WHERE g.gid = b.gid AND has_neighbours = 't'));\n",
    "\n",
    "\n",
    "WITH ins1 AS (\n",
    "    INSERT INTO urban_areas (geom, urban_area_km2)\n",
    "    SELECT geom, urban_area_km2\n",
    "    FROM buffer_upgrade\n",
    "    RETURNING gid, geom, urban_area_km2\n",
    "   )\n",
    "INSERT INTO urban_areas_tiles (gid, tileid, type) \n",
    "SELECT gid, (select tileid from tiles where type='tileglobal'), 'tileglobal'\n",
    "FROM ins1;"
   ]
  },
  {
   "cell_type": "markdown",
   "metadata": {
    "collapsed": true
   },
   "source": [
    "### Macro"
   ]
  },
  {
   "cell_type": "raw",
   "metadata": {},
   "source": [
    "CREATE MATERIALIZED VIEW macro_urban_areas_05x05 AS\n",
    "SELECT macro, tileid, SUM(urban_area_km2::NUMERIC(13,6)) as urban_area_km2, SUM(urban_areas_num) as urban_areas_num\n",
    "FROM (\n",
    "    SELECT u.tileid, t.macro, SUM(COALESCE(urban_area_km2, 0)::NUMERIC(13,6)) as urban_area_km2, COUNT(*) as urban_areas_num\n",
    "    FROM urban_areas_view u\n",
    "    INNER JOIN tiles_in_macro t ON u.tileid = ANY(t.tileids) AND u.type = t.type\n",
    "    WHERE t.has_one_macro = 1 AND t.type = 'tile05'\n",
    "    GROUP BY u.tileid, macro\n",
    "\n",
    "    UNION ALL\n",
    "\n",
    "    SELECT u.tileid, t.macro, SUM(COALESCE(urban_area_km2, 0)::NUMERIC(13,6)) as urban_area_km2, COUNT(*) as urban_areas_num\n",
    "    FROM urban_areas_view u\n",
    "    INNER JOIN tiles_macros_geom t ON u.tileid = t.tileid AND ST_CoveredBy(u.geom, t.tile_macro_geom) AND u.type = t.type\n",
    "    WHERE t.type = 'tile05' AND t.has_one_macro = 0\n",
    "    GROUP BY u.tileid, macro\n",
    ") temp\n",
    "GROUP BY tileid, macro;\n",
    "CREATE INDEX ON macro_urban_areas_05x05 (tileid);\n",
    "CREATE INDEX ON macro_urban_areas_05x05 (macro);"
   ]
  },
  {
   "cell_type": "raw",
   "metadata": {},
   "source": [
    "CREATE MATERIALIZED VIEW macro_urban_areas_1x1 AS\n",
    "SELECT macro, tileid, SUM(urban_area_km2::NUMERIC(13,6)) as urban_area_km2, SUM(urban_areas_num) as urban_areas_num\n",
    "FROM (\n",
    "    SELECT u.tileid, t.macro, SUM(COALESCE(urban_area_km2, 0)::NUMERIC(13,6)) as urban_area_km2, COUNT(*) as urban_areas_num\n",
    "    FROM urban_areas_view u\n",
    "    INNER JOIN tiles_in_macro t ON u.tileid = ANY(t.tileids) AND u.type = t.type\n",
    "    WHERE t.has_one_macro = 1 AND t.type = 'tile1'\n",
    "    GROUP BY u.tileid, macro\n",
    "\n",
    "    UNION ALL\n",
    "\n",
    "    SELECT u.tileid, t.macro, SUM(COALESCE(urban_area_km2, 0)::NUMERIC(13,6)) as urban_area_km2, COUNT(*) as urban_areas_num\n",
    "    FROM urban_areas_view u\n",
    "    INNER JOIN tiles_macros_geom t ON u.tileid = t.tileid AND ST_CoveredBy(u.geom, t.tile_macro_geom) AND u.type = t.type\n",
    "    WHERE t.type = 'tile1' AND t.has_one_macro = 0\n",
    "    GROUP BY u.tileid, macro\n",
    ") temp\n",
    "GROUP BY tileid, macro;\n",
    "CREATE INDEX ON macro_urban_areas_1x1 (tileid);\n",
    "CREATE INDEX ON macro_urban_areas_1x1 (macro);"
   ]
  },
  {
   "cell_type": "markdown",
   "metadata": {},
   "source": [
    "## Output CSV"
   ]
  },
  {
   "cell_type": "markdown",
   "metadata": {},
   "source": [
    "### Summaries"
   ]
  },
  {
   "cell_type": "raw",
   "metadata": {},
   "source": [
    "create materialized view summary_tiles_05x05 AS\n",
    "SELECT i.tileid, i.urban_area_km2, i.urban_areas_num, (i.tile_km2 - COALESCE(nl.noland_km2, 0) - COALESCE(s.steep_km2, 0)::NUMERIC(13,6)) as tile_km2, original_km2\n",
    "FROM (\n",
    "    SELECT t.tileid, t.type, SUM(COALESCE(c.urban_area_km2, 0)::NUMERIC(13,6)) as urban_area_km2, COUNT(c.*) as urban_areas_num, t.tile_km2, (ST_AREA(t.geom::geography)/1000000)::NUMERIC(13,6) as original_km2\n",
    "    FROM tiles_land t\n",
    "    LEFT JOIN urban_areas_view c on t.tileid = c.tileid AND c.type=t.type\n",
    "    WHERE t.type = 'tile05'\n",
    "    GROUP BY t.tileid, t.type, t.tile_km2, original_km2\n",
    ") i                                            \n",
    "LEFT JOIN tiles_steep s ON i.tileid = s.tileid AND i.type = s.type\n",
    "LEFT JOIN tiles_cannoturban nl ON i.tileid = nl.tileid AND i.type = nl.type;"
   ]
  },
  {
   "cell_type": "raw",
   "metadata": {},
   "source": [
    "create materialized view summary_tiles_1x1 AS\n",
    "SELECT i.tileid, i.urban_area_km2, i.urban_areas_num, (i.tile_km2 - COALESCE(nl.noland_km2, 0) - COALESCE(s.steep_km2, 0)::NUMERIC(13,6)) as tile_km2, i.tile_km2 as original_km2\n",
    "FROM (\n",
    "    SELECT t.tileid, t.type, SUM(COALESCE(c.urban_area_km2, 0)::NUMERIC(13,6)) as urban_area_km2, COUNT(c.*) as urban_areas_num, t.tile_km2\n",
    "    FROM tiles_land t\n",
    "    LEFT JOIN urban_areas_view c on t.tileid = c.tileid AND c.type=t.type\n",
    "    WHERE t.type = 'tile1'\n",
    "    GROUP BY t.tileid, t.type, t.tile_km2\n",
    ") i                                            \n",
    "LEFT JOIN tiles_steep s ON i.tileid = s.tileid AND i.type = s.type\n",
    "LEFT JOIN tiles_cannoturban nl ON i.tileid = nl.tileid AND i.type = nl.type;"
   ]
  },
  {
   "cell_type": "markdown",
   "metadata": {},
   "source": [
    "#### CSV"
   ]
  },
  {
   "cell_type": "raw",
   "metadata": {},
   "source": [
    "psql -U denadai -d ema -c \"copy (select tileid, urban_area_km2, urban_areas_num as urban_num, tile_km2, original_km2 from summary_tiles_05x05) TO stdout  DELIMITER ',' CSV HEADER;\" > '/home/denadai/ema/data/generated_files/summary_tiles_05x05.csv'"
   ]
  },
  {
   "cell_type": "raw",
   "metadata": {},
   "source": [
    "copy (select tileid, urban_area_km2, urban_areas_num as urban_num, tile_km2, original_km2 from summary_tiles_1x1) TO '/data/nadai/ema/data/generated_files/summary_tiles_1x1.csv' DELIMITER ',' CSV HEADER;"
   ]
  },
  {
   "cell_type": "raw",
   "metadata": {},
   "source": [
    "gdrive upload --parent '1BzNg_p0QezFufabnOSv35UKg-Xckmrr5' /data/nadai/ema/data/generated_files/summary_tiles_05x05.csv"
   ]
  },
  {
   "cell_type": "raw",
   "metadata": {},
   "source": [
    "gdrive upload --parent '1VCb7PWuFe4FgM3ISA5jsANq7BZT9ogTv' /data/nadai/ema/data/generated_files/summary_tiles_1x1.csv"
   ]
  },
  {
   "cell_type": "markdown",
   "metadata": {},
   "source": [
    "#### SHP"
   ]
  },
  {
   "cell_type": "raw",
   "metadata": {},
   "source": [
    "rm /home/denadai/ema/data/generated_files/summary_tiles_05x05.*\n",
    "ogr2ogr -f \"ESRI Shapefile\" -t_srs EPSG:4326 /home/denadai/ema/data/generated_files/summary_tiles_05x05.shp PG:\"dbname='ema' user='denadai'\" -sql \"select s.tileid, s.urban_area_km2, s.urban_areas_num as urban_num, s.tile_km2, t.geom, (CASE WHEN s.tile_km2=0 THEN 0 ELSE s.urban_area_km2/s.tile_km2::NUMERIC(13,6) END) as perc_urban from summary_tiles_05x05 s inner join tiles_land t on t.tileid=s.tileid and t.type='tile05'\""
   ]
  },
  {
   "cell_type": "raw",
   "metadata": {},
   "source": [
    "rm /data/nadai/ema/data/generated_files/summary_tiles_1x1.*\n",
    "ogr2ogr -f \"ESRI Shapefile\" -t_srs EPSG:4326 /data/nadai/ema/data/generated_files/summary_tiles_1x1.shp PG:\"dbname='ema' user='nadai'\" -sql \"select s.tileid, s.urban_area_km2, s.urban_areas_num as urban_num, s.tile_km2, t.geom, s.urban_area_km2/s.tile_km2::NUMERIC(13,6) as perc_urban from summary_tiles_1x1 s inner join tiles_land t on t.tileid=s.tileid and t.type='tile1'\""
   ]
  },
  {
   "cell_type": "raw",
   "metadata": {},
   "source": [
    "for f in /data/nadai/ema/data/generated_files/summary_tiles_05x05.*; do gdrive upload --parent '1GaBAOXkAy7bfch0e-2OFmkalKqbKiene' $f; done"
   ]
  },
  {
   "cell_type": "raw",
   "metadata": {},
   "source": [
    "for f in /data/nadai/ema/data/generated_files/summary_tiles_1x1.*; do gdrive upload --parent '17ggC3Qm5E0C7ygA6COkr2ty-eCHFntNA' $f; done"
   ]
  },
  {
   "cell_type": "markdown",
   "metadata": {},
   "source": [
    "### All urban areas per tile, per macro"
   ]
  },
  {
   "cell_type": "raw",
   "metadata": {},
   "source": [
    "create materialized view allareas_05x05 AS\n",
    "SELECT tileid, macro, urban_area_km2, ROUND(ST_X(centroid)::NUMERIC(13,6), 5) as centroid_lon, ROUND(ST_Y(centroid)::NUMERIC(13,6), 5) as centroid_lat\n",
    "FROM (\n",
    "\n",
    "    SELECT u.tileid, t.macro, urban_area_km2::NUMERIC(13,6), ST_Centroid(u.geom) as centroid\n",
    "    FROM urban_areas_view u\n",
    "    INNER JOIN tiles_in_macro t ON u.tileid = ANY(t.tileids) AND t.type=u.type\n",
    "    WHERE t.has_one_macro = 1 AND u.type='tile05'\n",
    "\n",
    "    UNION ALL\n",
    "\n",
    "    SELECT u.tileid, t.macro, urban_area_km2::NUMERIC(13,6), ST_Centroid(u.geom) as centroid\n",
    "    FROM urban_areas_view u\n",
    "    INNER JOIN tiles_macros_geom t ON u.tileid = t.tileid AND t.type=u.type AND ST_CoveredBy(u.geom, t.tile_macro_geom)\n",
    "    WHERE u.type = 'tile05' AND t.has_one_macro = 0\n",
    "    \n",
    ") temp2;"
   ]
  },
  {
   "cell_type": "raw",
   "metadata": {},
   "source": [
    "create materialized view allareas_1x1 AS\n",
    "SELECT tileid, macro, urban_area_km2, ROUND(ST_X(centroid)::NUMERIC(13,6), 5) as centroid_lon, ROUND(ST_Y(centroid)::NUMERIC(13,6), 5) as centroid_lat\n",
    "FROM (\n",
    "\n",
    "    SELECT u.tileid, t.macro, urban_area_km2::NUMERIC(13,6), ST_Centroid(u.geom) as centroid\n",
    "    FROM urban_areas_view u\n",
    "    INNER JOIN tiles_in_macro t ON u.tileid = ANY(t.tileids) AND t.type=u.type\n",
    "    WHERE t.has_one_macro = 1 AND u.type='tile1'\n",
    "\n",
    "    UNION ALL\n",
    "\n",
    "    SELECT u.tileid, t.macro, urban_area_km2::NUMERIC(13,6), ST_Centroid(u.geom) as centroid\n",
    "    FROM urban_areas_view u\n",
    "    INNER JOIN tiles_macros_geom t ON u.tileid = t.tileid AND t.type=u.type AND ST_CoveredBy(u.geom, t.tile_macro_geom)\n",
    "    WHERE u.type = 'tile1' AND t.has_one_macro = 0\n",
    "    \n",
    ") temp2;"
   ]
  },
  {
   "cell_type": "markdown",
   "metadata": {},
   "source": [
    "#### CSV"
   ]
  },
  {
   "cell_type": "raw",
   "metadata": {},
   "source": [
    "rm /home/denadai/ema/data/generated_files/urban_areas_per_tile_per_macro_05x05.csv.gz\n",
    "psql -U denadai -d ema -c \"COPY (select macro, tileid, urban_area_km2, centroid_lon, centroid_lat from allareas_05x05 order by macro, urban_area_km2) TO stdout DELIMITER ',' CSV HEADER\" | gzip > /home/denadai/ema/data/generated_files/urban_areas_per_tile_per_macro_05x05.csv.gz"
   ]
  },
  {
   "cell_type": "raw",
   "metadata": {},
   "source": [
    "rm /data/nadai/ema/data/generated_files/urban_areas_per_tile_per_macro_1x1.csv.gz\n",
    "psql -U denadai -d ema -c \"COPY (select macro, tileid, urban_area_km2, centroid_lon, centroid_lat from allareas_1x1 order by macro, urban_area_km2) TO stdout DELIMITER ',' CSV HEADER\" | gzip > /data/nadai/ema/data/generated_files/urban_areas_per_tile_per_macro_1x1.csv.gz"
   ]
  },
  {
   "cell_type": "markdown",
   "metadata": {},
   "source": [
    "#### Upload"
   ]
  },
  {
   "cell_type": "raw",
   "metadata": {},
   "source": [
    "gdrive upload --parent '1BzNg_p0QezFufabnOSv35UKg-Xckmrr5' /data/nadai/ema/data/generated_files/urban_areas_per_tile_per_macro_05x05.csv.gz"
   ]
  },
  {
   "cell_type": "raw",
   "metadata": {},
   "source": [
    "gdrive upload --parent '1VCb7PWuFe4FgM3ISA5jsANq7BZT9ogTv' /data/nadai/ema/data/generated_files/urban_areas_per_tile_per_macro_1x1.csv.gz"
   ]
  },
  {
   "cell_type": "markdown",
   "metadata": {},
   "source": [
    "### Macros"
   ]
  },
  {
   "cell_type": "raw",
   "metadata": {},
   "source": [
    "create materialized view macro_05x05 AS\n",
    "SELECT macro, tileid, SUM(urban_area_km2::NUMERIC(13,6)) as urban_area_km2, SUM(num_urban) as num_urban, SUM(tile_km2::NUMERIC(13,6)) as tile_km2, tile_macro_geom\n",
    "FROM (\n",
    "    SELECT t.macro, t.tileid, COALESCE(u.urban_area_km2, 0) as urban_area_km2, COALESCE(u.urban_areas_num, 0) as num_urban, (t.tile_km2 - COALESCE(c.noland_km2, 0) - COALESCE(s.steep_km2, 0))::NUMERIC(13,6) as tile_km2, t.tile_macro_geom\n",
    "    FROM tiles_macros_geom t\n",
    "    LEFT JOIN macro_urban_areas_05x05 u ON t.macro = u.macro AND t.tileid = u.tileid\n",
    "    LEFT JOIN macro_tiles_steep s ON t.macro = s.macro AND t.tileid = s.tileid\n",
    "    LEFT JOIN macro_tiles_cannoturban c ON t.macro = c.macro AND t.tileid = c.tileid\n",
    "    WHERE t.type = 'tile05'\n",
    ") temp\n",
    "GROUP BY macro, tileid, tile_macro_geom;"
   ]
  },
  {
   "cell_type": "raw",
   "metadata": {},
   "source": [
    "create materialized view macro_1x1 AS\n",
    "SELECT macro, tileid, SUM(urban_area_km2::NUMERIC(13,6)) as urban_area_km2, SUM(num_urban) as num_urban, SUM(tile_km2::NUMERIC(13,6)) as tile_km2, tile_macro_geom\n",
    "FROM (\n",
    "    SELECT t.macro, t.tileid, COALESCE(u.urban_area_km2, 0) as urban_area_km2, COALESCE(u.urban_areas_num, 0) as num_urban, (t.tile_km2 - COALESCE(c.noland_km2, 0) - COALESCE(s.steep_km2, 0))::NUMERIC(13,6) as tile_km2, t.tile_macro_geom\n",
    "    FROM tiles_macros_geom t\n",
    "    LEFT JOIN macro_urban_areas_1x1 u ON t.macro = u.macro AND t.tileid = u.tileid\n",
    "    LEFT JOIN macro_tiles_steep s ON t.macro = s.macro AND t.tileid = s.tileid\n",
    "    LEFT JOIN macro_tiles_cannoturban c ON t.macro = c.macro AND t.tileid = c.tileid\n",
    "    WHERE t.type = 'tile1'\n",
    ") temp\n",
    "GROUP BY macro, tileid, tile_macro_geom;"
   ]
  },
  {
   "cell_type": "markdown",
   "metadata": {},
   "source": [
    "#### CSV"
   ]
  },
  {
   "cell_type": "raw",
   "metadata": {},
   "source": [
    "psql -U denadai -d ema -c \"copy (select macro, tileid, urban_area_km2, num_urban, tile_km2 from macro_05x05) TO stdout DELIMITER ',' CSV HEADER;\" > '/home/denadai/ema/data/generated_files/macro_05x05.csv'"
   ]
  },
  {
   "cell_type": "raw",
   "metadata": {},
   "source": [
    "copy (select macro, tileid, urban_area_km2, num_urban, tile_km2 from macro_1x1) TO '/data/nadai/ema/data/generated_files/macro_1x1.csv' DELIMITER ',' CSV HEADER;"
   ]
  },
  {
   "cell_type": "raw",
   "metadata": {},
   "source": [
    "gdrive upload --parent '1P6BcYcO3ltbjelyQcyD2VU4Vpjfv9cg7' /data/nadai/ema/data/generated_files/macro_05x05.csv"
   ]
  },
  {
   "cell_type": "raw",
   "metadata": {},
   "source": [
    "gdrive upload --parent '1P6BcYcO3ltbjelyQcyD2VU4Vpjfv9cg7' /data/nadai/ema/data/generated_files/macro_1x1.csv"
   ]
  },
  {
   "cell_type": "markdown",
   "metadata": {},
   "source": [
    "#### SHP"
   ]
  },
  {
   "cell_type": "raw",
   "metadata": {},
   "source": [
    "rm /home/denadai/ema/data/generated_files/shps/macro_05x05.*\n",
    "ogr2ogr -f \"ESRI Shapefile\" -t_srs EPSG:4326 /home/denadai/ema/data/generated_files/shps/macro_05x05.shp PG:\"dbname='ema' user='denadai'\" -sql \"select s.macro, s.tileid, s.urban_area_km2, s.num_urban, s.tile_km2, tile_macro_geom as geom, CASE s.tile_km2\n",
    "   WHEN 0 THEN 0\n",
    "   ELSE s.urban_area_km2/s.tile_km2::NUMERIC(13,6)\n",
    "END as perc_urban from macro_05x05 s inner join tiles_land t on t.tileid=s.tileid and t.type='tile05'\""
   ]
  },
  {
   "cell_type": "raw",
   "metadata": {},
   "source": [
    "rm /data/nadai/ema/data/generated_files/shps/macro_1x1.*\n",
    "ogr2ogr -f \"ESRI Shapefile\" -t_srs EPSG:4326 /data/nadai/ema/data/generated_files/shps/macro_1x1.shp PG:\"dbname='ema' user='nadai'\" -sql \"select s.macro, s.tileid, s.urban_area_km2, s.num_urban, s.tile_km2, tile_macro_geom as geom, CASE s.tile_km2\n",
    "   WHEN 0 THEN 0\n",
    "   ELSE s.urban_area_km2/s.tile_km2::NUMERIC(13,6)\n",
    "END as perc_urban from macro_1x1 s inner join tiles_land t on t.tileid=s.tileid and t.type='tile1'\""
   ]
  },
  {
   "cell_type": "markdown",
   "metadata": {},
   "source": [
    "upload"
   ]
  },
  {
   "cell_type": "raw",
   "metadata": {},
   "source": [
    "for f in /data/nadai/ema/data/generated_files/shps/macro_*; do gdrive upload --parent '1x280dFeDWWFR-hJ39tH48GUeCAVMcoxk' $f; done "
   ]
  },
  {
   "cell_type": "markdown",
   "metadata": {},
   "source": [
    "## 4 Maps"
   ]
  },
  {
   "cell_type": "raw",
   "metadata": {},
   "source": [
    "CREATE MATERIALIZED VIEW tiles_land_without_water AS\n",
    "SELECT i.tileid, i.type, CASE WHEN i.water_geom IS NULL THEN i.tile_real_geom ELSE ST_Difference(i.tile_real_geom, i.water_geom) END as tile_real_geom\n",
    "FROM (\n",
    "    SELECT t.tileid, t.type, ST_Union(w.geom) as water_geom, t.tile_real_geom \n",
    "    FROM tiles_land t\n",
    "    LEFT JOIN water_etsimila w ON ST_Intersects(w.geom, t.tile_real_geom) AND NOT ST_Touches(w.geom, t.tile_real_geom)\n",
    "    GROUP BY t.tileid, t.type, t.tile_real_geom\n",
    ") i\n",
    "WHERE i.type='tile05' OR i.type='tile1';"
   ]
  },
  {
   "cell_type": "raw",
   "metadata": {},
   "source": [
    "copy (select tileid, (ST_AREA(geom::geography)/1000000)::NUMERIC(13,6) as total_tile_area from tiles_land WHERE type='tile05') TO '/data/nadai/ema/data/generated_files/filippo_totarea_05x05.csv' DELIMITER ',' CSV HEADER;"
   ]
  }
 ],
 "metadata": {
  "kernelspec": {
   "display_name": "Python 3",
   "language": "python",
   "name": "python3"
  },
  "language_info": {
   "codemirror_mode": {
    "name": "ipython",
    "version": 3
   },
   "file_extension": ".py",
   "mimetype": "text/x-python",
   "name": "python",
   "nbconvert_exporter": "python",
   "pygments_lexer": "ipython3",
   "version": "3.7.4"
  }
 },
 "nbformat": 4,
 "nbformat_minor": 2
}
